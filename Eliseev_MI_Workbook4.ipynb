{
 "cells": [
  {
   "cell_type": "markdown",
   "metadata": {},
   "source": [
    "### 1.1.1 Пример\n",
    "Проведем прямую 𝑦 = 𝑚𝑥 + 𝑏 через экспериментальные точки."
   ]
  },
  {
   "cell_type": "code",
   "execution_count": 1,
   "metadata": {},
   "outputs": [
    {
     "name": "stdout",
     "output_type": "stream",
     "text": [
      "[[0. 1.]\n",
      " [1. 1.]\n",
      " [2. 1.]\n",
      " [3. 1.]]\n",
      "0.9999999999999997 -0.949999999999999\n"
     ]
    },
    {
     "data": {
      "image/png": "[encoded data removed]",
      "text/plain": [
       "<Figure size 640x480 with 1 Axes>"
      ]
     },
     "metadata": {},
     "output_type": "display_data"
    }
   ],
   "source": [
    "import numpy as np\n",
    "import matplotlib.pyplot as plt\n",
    "x = np.array([0, 1, 2, 3])\n",
    "y = np.array([-1, .2, .9, 2.1])\n",
    "\n",
    "A = np.vstack([x, np.ones(len(x))]).T\n",
    "print(A)\n",
    "\n",
    "m, c = np.linalg.lstsq(A, y, rcond=None)[0]\n",
    "print(m, c)\n",
    "\n",
    "plt.plot(x, y, 'o', label='Исходные данные', markersize=10)\n",
    "plt.plot(x, m*x + c, 'r', label='Линия экстраполяции')\n",
    "plt.legend()\n",
    "plt.show()"
   ]
  },
  {
   "cell_type": "markdown",
   "metadata": {},
   "source": [
    "### 1.1.2 Пример\n",
    "Пусть 𝑥, 𝑦 – вектора длиной 𝑛 > 3 (точек > 3). Задача заключается в построении эстраполяционного полинома второго порядка (параболы). Таким образом, необходимо найти такие коэффициенты поринома 𝑎, 𝑏, 𝑐 по методу наименьших квадратов. Данные мтогут быть получены в результате измерений. Покажем пример генерации данных случайным образом и загрузки их из файла."
   ]
  },
  {
   "cell_type": "code",
   "execution_count": 2,
   "metadata": {},
   "outputs": [
    {
     "ename": "FileNotFoundError",
     "evalue": "[Errno 2] No such file or directory: '4/x_data.txt'",
     "output_type": "error",
     "traceback": [
      "\u001b[0;31m---------------------------------------------------------------------------\u001b[0m",
      "\u001b[0;31mFileNotFoundError\u001b[0m                         Traceback (most recent call last)",
      "\u001b[0;32m/tmp/ipykernel_4462/1499785377.py\u001b[0m in \u001b[0;36m<module>\u001b[0;34m\u001b[0m\n\u001b[1;32m      8\u001b[0m \u001b[0mx\u001b[0m \u001b[0;34m+=\u001b[0m \u001b[0mdelta\u001b[0m \u001b[0;34m*\u001b[0m \u001b[0;34m(\u001b[0m\u001b[0mrand\u001b[0m\u001b[0;34m(\u001b[0m\u001b[0;36m11\u001b[0m\u001b[0;34m)\u001b[0m\u001b[0;34m-\u001b[0m\u001b[0;36m0.5\u001b[0m\u001b[0;34m)\u001b[0m\u001b[0;34m\u001b[0m\u001b[0;34m\u001b[0m\u001b[0m\n\u001b[1;32m      9\u001b[0m \u001b[0;34m\u001b[0m\u001b[0m\n\u001b[0;32m---> 10\u001b[0;31m \u001b[0mx\u001b[0m\u001b[0;34m.\u001b[0m\u001b[0mtofile\u001b[0m\u001b[0;34m(\u001b[0m\u001b[0;34m'4/x_data.txt'\u001b[0m\u001b[0;34m,\u001b[0m \u001b[0;34m'\\n'\u001b[0m\u001b[0;34m)\u001b[0m\u001b[0;34m\u001b[0m\u001b[0;34m\u001b[0m\u001b[0m\n\u001b[0m\u001b[1;32m     11\u001b[0m \u001b[0my\u001b[0m\u001b[0;34m.\u001b[0m\u001b[0mtofile\u001b[0m\u001b[0;34m(\u001b[0m\u001b[0;34m'4/y_data.txt'\u001b[0m\u001b[0;34m,\u001b[0m \u001b[0;34m'\\n'\u001b[0m\u001b[0;34m)\u001b[0m\u001b[0;34m\u001b[0m\u001b[0;34m\u001b[0m\u001b[0m\n",
      "\u001b[0;31mFileNotFoundError\u001b[0m: [Errno 2] No such file or directory: '4/x_data.txt'"
     ]
    }
   ],
   "source": [
    "from numpy import *\n",
    "from numpy.random import *\n",
    "import matplotlib.pyplot as plt\n",
    "\n",
    "delta = 1.0\n",
    "x = linspace(-5, 5, 11)\n",
    "y = x**2 + delta * (rand(11)-0.5)\n",
    "x += delta * (rand(11)-0.5)\n",
    "\n",
    "x.tofile('4/x_data.txt', '\\n')\n",
    "y.tofile('4/y_data.txt', '\\n')"
   ]
  },
  {
   "cell_type": "code",
   "execution_count": null,
   "metadata": {},
   "outputs": [],
   "source": [
    "x = fromfile('4/x_data.txt', float, sep='\\n')\n",
    "y = fromfile('4/y_data.txt', float, sep='\\n')\n",
    "print(x)\n",
    "print(y)\n",
    "\n",
    "m = vstack((x**2, x, ones(11))).T\n",
    "s = np.linalg.lstsq(m, y, rcond=None)[0]\n",
    "\n",
    "x_prec = linspace(-5, 5, 101)\n",
    "\n",
    "plt.plot(x, y, 'D')\n",
    "plt.plot(x_prec, s[0] * x_prec**2 + s[1] * x_prec + s[2], '-', lw=2)\n",
    "plt.grid()\n",
    "plt.savefig('4/парабола.png')\n",
    "plt.show()"
   ]
  },
  {
   "cell_type": "markdown",
   "metadata": {},
   "source": [
    "### 1.1.3 Пример\n",
    "По данным предыдущего примера постройте эстраполяционного полинома третьего порядка"
   ]
  },
  {
   "cell_type": "code",
   "execution_count": null,
   "metadata": {},
   "outputs": [],
   "source": [
    "m = vstack((x**3, x**2, x, ones(11))).T\n",
    "s = np.linalg.lstsq(m, y, rcond=None)[0]\n",
    "\n",
    "x_prec = linspace(-5, 5, 101)\n",
    "plt.plot(x, y, 'D')\n",
    "plt.plot(x_prec, s[0] * x_prec**3 + s[1] * x_prec**2 + s[2] * x_prec + s[3], '-', lw=3)\n",
    "plt.grid()\n",
    "plt.savefig('4/Полином 3-й степени.png')\n",
    "plt.show()"
   ]
  },
  {
   "cell_type": "markdown",
   "metadata": {},
   "source": [
    "### Задание\n",
    "Представьте собственные данные и постройте эктраполяцию полиномами первой, второй и третьей степени."
   ]
  },
  {
   "cell_type": "code",
   "execution_count": null,
   "metadata": {},
   "outputs": [],
   "source": [
    "x = np.array([-4.6, -3.4, -2.2, -1.0, 0.2, 1.4, 2.6, 3.8, 5.0])\n",
    "y = np.array([18, 16, 15, 14.5, 16, 17, 15, 13, 11])\n",
    "x_prec = linspace(-5, 5, 101)\n",
    "plt.plot(x, y, 'D')\n",
    "\n",
    "m = vstack((x, ones(9))).T\n",
    "s = np.linalg.lstsq(m, y, rcond=None)[0]\n",
    "plt.plot(x_prec, s[0] * x_prec + s[1], '-', lw=2)\n",
    "\n",
    "m = vstack((x**2, x, ones(9))).T\n",
    "s = np.linalg.lstsq(m, y, rcond=None)[0]\n",
    "plt.plot(x_prec, s[0] * x_prec**2 + s[1] * x_prec + s[2], '-', lw=2)\n",
    "\n",
    "m = vstack((x**3, x**2, x, ones(9))).T\n",
    "s = np.linalg.lstsq(m, y, rcond=None)[0]\n",
    "plt.plot(x_prec, s[0] * x_prec**3 + s[1] * x_prec**2 + s[2] * x_prec + s[3], '-', lw=2)"
   ]
  },
  {
   "cell_type": "markdown",
   "metadata": {},
   "source": [
    "### 1.1.4 Пример\n",
    "Необходимо проверить гипотезу, что наши точечно заданная функция ложится на кривую вида 𝑓(𝑥, 𝑏) = 𝑏0 + 𝑏1𝑒𝑥𝑝(−𝑏2𝑥^2)\n",
    ")"
   ]
  },
  {
   "cell_type": "code",
   "execution_count": null,
   "metadata": {},
   "outputs": [],
   "source": [
    "beta = (.25, .75, .5)\n",
    "def f(x, b0, b1, b2):\n",
    "    return b0 + b1 * np.exp(-b2 * x ** 2)\n",
    "xdata = np.linspace(0, 5, 50)\n",
    "y = f(xdata, *beta)\n",
    "ydata = y + .05 * np.random.randn(len(xdata))\n",
    "\n",
    "from scipy.optimize import curve_fit\n",
    "beta_opt, beta_cov = curve_fit(f, xdata, ydata)\n",
    "\n",
    "lin_dev = sum(beta_cov[0])\n",
    "print(lin_dev)\n",
    "\n",
    "residuals = ydata - f(xdata, *beta_opt)\n",
    "fres = sum(residuals ** 2)\n",
    "print(fres)\n",
    "\n",
    "fig, ax = plt.subplots()\n",
    "ax.scatter(xdata, ydata)\n",
    "ax.plot(xdata, y, 'r', lw=2)\n",
    "ax.plot(xdata, f(xdata, *beta_opt), 'b', lw=2)\n",
    "ax.set_xlim(0, 5)\n",
    "ax.set_xlabel(r'$x$', fontsize=18)\n",
    "ax.set_ylabel(r'$f(x, \\beta)$', fontsize=18)\n",
    "plt.show()"
   ]
  },
  {
   "cell_type": "markdown",
   "metadata": {},
   "source": [
    "### 1.1.5 Пример\n",
    "Необходимо проверить гипотезу, что наши точечно заданная функция ложится\n",
    "на кривые вида:\n",
    "1) 𝑓(𝑥, 𝑏) = 𝑏0 + 𝑏1𝑥\n",
    "2) 𝑓(𝑥, 𝑏) = 𝑏0 + 𝑏1𝑥 + 𝑏2𝑥^2\n",
    "3) 𝑓(𝑥, 𝑏) = 𝑏0 + 𝑏1𝑙𝑛(𝑥)\n",
    "4) 𝑓(𝑥, 𝑏) = 𝑏0 𝑥^𝑏1\n"
   ]
  },
  {
   "cell_type": "code",
   "execution_count": null,
   "metadata": {},
   "outputs": [],
   "source": [
    "import scipy as sp\n",
    "beta = (.25, .75)\n",
    "def f(x, b0, b1):\n",
    "    return b0 + b1 * x\n",
    "xdata = np.linspace(0, 5, 50)\n",
    "y = f(xdata, *beta)\n",
    "ydata = y + .05 * np.random.randn(len(xdata))\n",
    "beta_opt, beta_cov = sp.optimize.curve_fit(f, xdata, ydata)\n",
    "print(beta_opt)\n",
    "lin_dev = sum(beta_cov[0])\n",
    "print(lin_dev)\n",
    "residuals = ydata - f(xdata, *beta_opt)\n",
    "fres = sum(residuals ** 2)\n",
    "print(fres)\n",
    "\n",
    "fig, ax = plt.subplots()\n",
    "ax.scatter(xdata, ydata)\n",
    "ax.plot(xdata, y, 'r', lw=2)\n",
    "ax.plot(xdata, f(xdata, *beta_opt), 'b', lw=2)\n",
    "ax.set_xlim(0, 5)\n",
    "ax.set_xlabel(r'$x$', fontsize=18)\n",
    "ax.set_ylabel(r'$f(x, \\beta)$', fontsize=18)\n",
    "plt.show()"
   ]
  },
  {
   "cell_type": "code",
   "execution_count": null,
   "metadata": {},
   "outputs": [],
   "source": [
    "beta = (.25, .75, .5)\n",
    "def f(x, b0, b1, b2):\n",
    "    return b0 + b1 * x + b2 * x**2\n",
    "xdata = np.linspace(0, 5, 50)\n",
    "y = f(xdata, *beta)\n",
    "ydata = y + .05 * np.random.randn(len(xdata))\n",
    "beta_opt, beta_cov = sp.optimize.curve_fit(f, xdata, ydata)\n",
    "print(beta_opt)\n",
    "lin_dev = sum(beta_cov[0])\n",
    "print(lin_dev)\n",
    "residuals = ydata - f(xdata, *beta_opt)\n",
    "fres = sum(residuals ** 2)\n",
    "print(fres)\n",
    "\n",
    "fig, ax = plt.subplots()\n",
    "ax.scatter(xdata, ydata)\n",
    "ax.plot(xdata, y, 'r', lw=2)\n",
    "ax.plot(xdata, f(xdata, *beta_opt), 'b', lw=2)\n",
    "ax.set_xlim(0, 5)\n",
    "ax.set_xlabel(r'$x$', fontsize=18)\n",
    "ax.set_ylabel(r'$f(x, \\beta)$', fontsize=18)\n",
    "plt.show()"
   ]
  },
  {
   "cell_type": "code",
   "execution_count": null,
   "metadata": {},
   "outputs": [],
   "source": [
    "beta = (1, 2)\n",
    "def f(x, b0, b1):\n",
    "    return b0 + b1 * np.log(x)\n",
    "xdata = np.linspace(1, 5, 50)\n",
    "y = f(xdata, *beta)\n",
    "ydata = y + .05 * np.random.randn(len(xdata))\n",
    "beta_opt, beta_cov = sp.optimize.curve_fit(f, xdata, ydata)\n",
    "print(beta_opt)\n",
    "lin_dev = sum(beta_cov[0])\n",
    "print(lin_dev)\n",
    "residuals = ydata - f(xdata, *beta_opt)\n",
    "fres = sum(residuals ** 2)\n",
    "print(fres)\n",
    "\n",
    "fig, ax = plt.subplots()\n",
    "ax.scatter(xdata, ydata)\n",
    "ax.plot(xdata, y, 'r', lw=2)\n",
    "ax.plot(xdata, f(xdata, *beta_opt), 'b', lw=2)\n",
    "ax.set_xlim(0, 5)\n",
    "ax.set_xlabel(r'$x$', fontsize=18)\n",
    "ax.set_ylabel(r'$f(x, \\beta)$', fontsize=18)\n",
    "plt.show()"
   ]
  },
  {
   "cell_type": "code",
   "execution_count": null,
   "metadata": {},
   "outputs": [],
   "source": [
    "beta = (1, 2)\n",
    "def f(x, b0, b1):\n",
    "    return b0 * x ** b1\n",
    "xdata = np.linspace(1, 5, 50)\n",
    "y = f(xdata, *beta)\n",
    "ydata = y + .05 * np.random.randn(len(xdata))\n",
    "beta_opt, beta_cov = sp.optimize.curve_fit(f, xdata, ydata)\n",
    "print(beta_opt)\n",
    "lin_dev = sum(beta_cov[0])\n",
    "print(lin_dev)\n",
    "residuals = ydata - f(xdata, *beta_opt)\n",
    "fres = sum(residuals ** 2)\n",
    "print(fres)\n",
    "\n",
    "fig, ax = plt.subplots()\n",
    "ax.scatter(xdata, ydata)\n",
    "ax.plot(xdata, y, 'r', lw=2)\n",
    "ax.plot(xdata, f(xdata, *beta_opt), 'b', lw=2)\n",
    "ax.set_xlim(0, 5)\n",
    "ax.set_xlabel(r'$x$', fontsize=18)\n",
    "ax.set_ylabel(r'$f(x, \\beta)$', fontsize=18)\n",
    "plt.show()"
   ]
  },
  {
   "cell_type": "markdown",
   "metadata": {},
   "source": [
    "### Задание\n",
    "Подставьте собственные данные и поэкспериментируйте с представленными функциями. Проанализируйте динамику изменения данных."
   ]
  },
  {
   "cell_type": "code",
   "execution_count": null,
   "metadata": {},
   "outputs": [],
   "source": [
    "import numpy as np\n",
    "import scipy as sp\n",
    "import matplotlib.pyplot as plt\n",
    "\n",
    "beta = (0.75, .75)\n",
    "def myF(x, b0, b1):\n",
    "    return np.sin(b0 * x) * b1 * x\n",
    "xdata = np.linspace(-10, 10, 50)\n",
    "y = myF(xdata, *beta)\n",
    "ydata = y + .05 * np.random.randn(len(xdata))\n",
    "beta_opt, beta_cov = sp.optimize.curve_fit(myF, xdata, ydata)\n",
    "print(beta_opt)\n",
    "lin_dev = sum(beta_cov[0])\n",
    "print(lin_dev)\n",
    "residuals = ydata - myF(xdata, *beta_opt)\n",
    "fres = sum(residuals ** 2)\n",
    "print(fres)\n",
    "\n",
    "fig, ax = plt.subplots()\n",
    "ax.scatter(xdata, ydata)\n",
    "ax.plot(xdata, y, 'r', lw=2)\n",
    "ax.plot(xdata, myF(xdata, *beta_opt), 'b', lw=2)\n",
    "ax.set_xlim(-10, 10)\n",
    "ax.set_xlabel(r'$x$', fontsize=18)\n",
    "ax.set_ylabel(r'$f(x, \\beta)$', fontsize=18)\n",
    "plt.show()"
   ]
  },
  {
   "cell_type": "markdown",
   "metadata": {},
   "source": [
    "### 1.2.1 Пример\n",
    "Построим простую линейную регрессию в Python с использованием библиотеки scikit-learn"
   ]
  },
  {
   "cell_type": "code",
   "execution_count": null,
   "metadata": {},
   "outputs": [],
   "source": [
    "import pandas as pd\n",
    "import numpy as np\n",
    "import matplotlib.pyplot as plt\n",
    "from pandas import DataFrame, Series\n",
    "from sklearn.model_selection import train_test_split\n",
    "from sklearn.linear_model import LinearRegression\n",
    "\n",
    "my_dict = {'Учебное время': [.5, .75, 1, 1.25, 1.5, 1.75, 1.75, 2, 2.25, 2.5, 2.75, 3, 3.25, 3.5, 4, 4.25, 4.5, 4.75, 5, 5.5],\n",
    "           'Оценка': [10, 22, 13, 43, 20, 22, 33, 50, 62, 48, 55, 75, 62, 73, 81, 76, 64, 82, 90, 93]}\n",
    "dataset = pd.DataFrame(my_dict)\n",
    "dataset.head()"
   ]
  },
  {
   "cell_type": "code",
   "execution_count": null,
   "metadata": {},
   "outputs": [],
   "source": [
    "print(dataset.shape)\n",
    "dataset.describe()"
   ]
  },
  {
   "cell_type": "code",
   "execution_count": null,
   "metadata": {},
   "outputs": [],
   "source": [
    "plt.scatter(dataset['Учебное время'], dataset['Оценка'], color='b', label='данные экзамена')\n",
    "plt.xlabel('Часы')\n",
    "plt.ylabel('Оценка')\n",
    "plt.show()"
   ]
  },
  {
   "cell_type": "markdown",
   "metadata": {},
   "source": [
    "После того как мы получили представление о данных, разделим информацию на «атрибуты» и «метки». Атрибуты – это независимые переменные, а метки – это зависимые переменные, значения которых должны быть предсказаны. В нашем наборе всего два столбца и необходимо предсказать оценку в зависимости от количества часов. Чтобы извлечь атрибуты и метки, выполните следующий скрипт:"
   ]
  },
  {
   "cell_type": "code",
   "execution_count": null,
   "metadata": {},
   "outputs": [],
   "source": [
    "X = dataset.iloc[:, :-1].values\n",
    "Y = dataset.iloc[:, 1].values\n",
    "\n",
    "X_train, X_test, Y_train, Y_test = train_test_split(X, Y, test_size=0.2, random_state=0)\n",
    "regressor = LinearRegression()\n",
    "regressor.fit(X_train, Y_train)\n",
    "print(regressor.intercept_)\n",
    "print(regressor.coef_)"
   ]
  },
  {
   "cell_type": "markdown",
   "metadata": {},
   "source": [
    "Получившийся результат можно интерпретировать следующим образом: с каждым затраченным часом на обучение результат экзамена повышается приблизительно на 17 баллов. Далее можно построить прогнозы. Для этого мы будем использовать наши тестовые данные и посмотрим, насколько точно наш алгоритм предсказывает процентную оценку. Чтобы сделать прогноз на тестовых данных необходимо выполнить следующий код:"
   ]
  },
  {
   "cell_type": "code",
   "execution_count": null,
   "metadata": {},
   "outputs": [],
   "source": [
    "y_pred = regressor.predict(X_test)\n",
    "df = pd.DataFrame({'Actual': Y_test, 'Predicted': y_pred})\n",
    "df"
   ]
  },
  {
   "cell_type": "code",
   "execution_count": null,
   "metadata": {},
   "outputs": [],
   "source": [
    "df.plot(kind='bar')\n",
    "plt.grid(which='major', linestyle='-', linewidth='0.5', color='green')\n",
    "plt.grid(which='minor', linestyle=':', linewidth='0.5', color='black')\n",
    "plt.show()"
   ]
  },
  {
   "cell_type": "code",
   "execution_count": null,
   "metadata": {},
   "outputs": [],
   "source": [
    "plt.scatter(X_test, Y_test, color='gray')\n",
    "plt.plot(X_test, y_pred, color='red', linewidth=2)\n",
    "plt.show()"
   ]
  },
  {
   "cell_type": "markdown",
   "metadata": {},
   "source": [
    "### Задание\n",
    "Постройте модель линейной регрессии для произвольных данных из двух столбцов. Для примера можно взять точечную зависимость заработной платы от опыта работы: (https://raw.githubusercontent.com/AnnaShestova/salary-years-simple-linearregression/master/Salary_Data.csv).\n",
    "Найдите коэффициенты линии регрессии. Постройте прогноз."
   ]
  },
  {
   "cell_type": "code",
   "execution_count": null,
   "metadata": {},
   "outputs": [],
   "source": [
    "url = \"https://raw.githubusercontent.com/AnnaShestova/salary-years-simple-linear-regression/master/Salary_Data.csv\"\n",
    "dataset = pd.read_csv(url)\n",
    "\n",
    "X = dataset.iloc[:, :-1].values\n",
    "Y = dataset.iloc[:, 1].values\n",
    "\n",
    "X_train, X_test, Y_train, Y_test = train_test_split(X, Y, test_size=0.2, random_state=0)\n",
    "regressor = LinearRegression()\n",
    "regressor.fit(X_train, Y_train)\n",
    "y_pred = regressor.predict(X_test)\n",
    "df = pd.DataFrame({'Actual': Y_test, 'Predicted': y_pred})\n",
    "df.plot(kind='bar')\n",
    "plt.grid(which='major', linestyle='-', linewidth='0.5', color='green')\n",
    "plt.grid(which='minor', linestyle=':', linewidth='0.5', color='black')\n",
    "plt.show()\n",
    "\n",
    "plt.scatter(dataset['YearsExperience'], dataset['Salary'], color='gray', label='Зарплата')\n",
    "plt.scatter(X_test, Y_test, color='r')\n",
    "plt.plot(X_test, y_pred, color='b', linewidth=2)\n",
    "plt.show()"
   ]
  },
  {
   "cell_type": "markdown",
   "metadata": {},
   "source": [
    "### 1.3.1 Пример\n",
    "Для решения задачи множественной регрессии можно задействовать уже известный метод numpy.linalg.lstsq."
   ]
  },
  {
   "cell_type": "code",
   "execution_count": null,
   "metadata": {},
   "outputs": [],
   "source": [
    "import numpy as np\n",
    "\n",
    "y= [1,2,3,4,3,4,5,3,5,5,4,5,4,5,4,5,6,0,6,3,1,3,1]\n",
    "X=[[0,2,4,1,5,4,5,9,9,9,3,7,8,8,6,6,5,5,5,6,6,5,5],\n",
    "[4,1,2,3,4,5,6,7,5,8,7,8,7,8,7,8,6,8,9,2,1,5,6],\n",
    "[4,1,2,5,6,7,8,9,7,8,7,8,7,4,3,1,2,3,4,1,3,9,7]]\n",
    "\n",
    "X = np.transpose(X)\n",
    "X = np.c_[X, np.ones(X.shape[0])]\n",
    "linreg = np.linalg.lstsq(X, y, rcond=None)[0]\n",
    "print(linreg)"
   ]
  },
  {
   "cell_type": "markdown",
   "metadata": {},
   "source": [
    "### 1.3.2 Пример\n",
    "Для данных из предыдущей задачи построить модель множественной линейной регрессии с использованием средств библиотеки sсikit-learn."
   ]
  },
  {
   "cell_type": "code",
   "execution_count": null,
   "metadata": {},
   "outputs": [],
   "source": [
    "import pandas as pd\n",
    "import numpy as np\n",
    "import matplotlib.pyplot as plt\n",
    "import seaborn as sns\n",
    "from sklearn.model_selection import train_test_split\n",
    "from sklearn.linear_model import LinearRegression\n",
    "from sklearn import metrics\n",
    "\n",
    "y= [1,2,3,4,3,4,5,3,5,5,4,5,4,5,4,5,6,0,6,3,1,3,1]\n",
    "x=[[0,2,4,1,5,4,5,9,9,9,3,7,8,8,6,6,5,5,5,6,6,5,5],\n",
    "[4,1,2,3,4,5,6,7,5,8,7,8,7,8,7,8,6,8,9,2,1,5,6],\n",
    "[4,1,2,5,6,7,8,9,7,8,7,8,7,4,3,1,2,3,4,1,3,9,7]]\n",
    "\n",
    "new_y = np.array(y)\n",
    "new_y = new_y.transpose()\n",
    "df1 = pd.DataFrame(new_y)\n",
    "new_X = np.array(x)\n",
    "new_X = new_X.transpose()\n",
    "df2 = pd.DataFrame(new_X)\n",
    "df1 = df1.rename(columns={0: 'y'}, inplace=False)\n",
    "df2 = df2.rename(columns={0: 'x1', 1: 'x2', 2: 'x3'}, inplace=False)\n",
    "\n",
    "frames = [df1, df2]\n",
    "dataset = pd.concat([df1, df2], axis=1, join='inner')\n",
    "dataset.head()"
   ]
  },
  {
   "cell_type": "code",
   "execution_count": null,
   "metadata": {},
   "outputs": [],
   "source": [
    "print(dataset.shape)\n",
    "dataset.describe()"
   ]
  },
  {
   "cell_type": "code",
   "execution_count": null,
   "metadata": {},
   "outputs": [],
   "source": [
    "X = dataset[['x1', 'x2', 'x3']]\n",
    "Y = dataset['y']\n",
    "X_train, X_test, Y_train, Y_test = train_test_split(X, Y, test_size=0.2, random_state=0)\n",
    "regressor = LinearRegression()\n",
    "regressor.fit(X_train, Y_train)\n",
    "\n",
    "coeff_df = pd.DataFrame(regressor.coef_, X.columns, columns=['Coefficient'])\n",
    "coeff_df"
   ]
  },
  {
   "cell_type": "code",
   "execution_count": null,
   "metadata": {},
   "outputs": [],
   "source": [
    "y_pred = regressor.predict(X_test)\n",
    "df = pd.DataFrame({'Actual': Y_test, 'Predicted': y_pred})\n",
    "df"
   ]
  },
  {
   "cell_type": "code",
   "execution_count": null,
   "metadata": {},
   "outputs": [],
   "source": [
    "print('Mean Squared Error:', metrics.mean_squared_error(Y_test, y_pred))"
   ]
  },
  {
   "cell_type": "markdown",
   "metadata": {},
   "source": [
    "### Задание\n",
    "Постройте модель множественной линейной регрессии для произвольных данных из нескольких столбцов. Для примера можно взять потребления газа (в миллионах галлонов) в 48 штатах США или набор данных о качестве красного вина (1) и (2) соответственно. Найдите коэффициенты множественной регрессии. Постройте прогноз.\n",
    "1. https://raw.githubusercontent.com/likarajo/petrol_consumption/master/data/petrol_consumption.csv\n",
    "2. https://raw.githubusercontent.com/aniruddhachoudhury/Red-Wine-Quality/master/winequality-red.csv"
   ]
  },
  {
   "cell_type": "code",
   "execution_count": null,
   "metadata": {},
   "outputs": [],
   "source": [
    "url = \"https://raw.githubusercontent.com/aniruddhachoudhury/Red-Wine-Quality/master/winequality-red.csv\"\n",
    "dataset = pd.read_csv(url)\n",
    "labels = dataset.columns\n",
    "\n",
    "y = np.array(dataset['quality']).transpose()\n",
    "df1 = pd.DataFrame(y)\n",
    "x = np.array(dataset.iloc[:, :-1]).transpose()\n",
    "df2 = pd.DataFrame(x)\n",
    "\n",
    "df1 = df1.rename(columns={0: 'y'}, inplace=False)\n",
    "df2 = df2.rename(columns={0: 'x1', 1: 'x2', 2: 'x3', 3: 'x4', 4: 'x5', 5: 'x6', 6: 'x7', 7: 'x8', 8: 'x9', 9: 'x10', 10: 'x11'}, inplace=False)\n",
    "frames = [df1, df2]\n",
    "dataset = pd.concat([df1, df2], axis=1, join='inner')\n",
    "\n",
    "X = dataset[['x1', 'x2', 'x3', 'x4', 'x5', 'x6', 'x7', 'x8', 'x9', 'x10', 'x11']]\n",
    "Y = dataset['y']\n",
    "X_train, X_test, Y_train, Y_test = train_test_split(X, Y, test_size=0.2, random_state=0)\n",
    "regressor = LinearRegression()\n",
    "regressor.fit(X_train, Y_train)\n",
    "\n",
    "coeff_df = pd.DataFrame(regressor.coef_, X.columns, columns=['Coefficient'])\n",
    "print(coeff_df)\n",
    "\n",
    "y_pred = regressor.predict(X_test)\n",
    "df = pd.DataFrame({'Actual': Y_test, 'Predicted': y_pred})\n",
    "df"
   ]
  },
  {
   "cell_type": "code",
   "execution_count": null,
   "metadata": {},
   "outputs": [],
   "source": [
    "print('Mean Squared Error:', metrics.mean_squared_error(Y_test, y_pred))"
   ]
  },
  {
   "cell_type": "markdown",
   "metadata": {},
   "source": [
    "### Задание\n",
    "Задача: Экспериментально получены N − значений величины Y при различных значениях величины X. Построить полиномы первой и второй степени, аппроксимирующие результаты эксперимента, с применением метода наименьших квадратов. Результаты выводятся в виде таблиц значений и графиков, полученных полиномов.\n",
    "\n",
    "Вариант 6\n",
    "x | y \n",
    "--- | --- \n",
    "4,0 | 4,0\n",
    "4,2 | 3,0\n",
    "4,4 | 6,0\n",
    "4,6 | 6,0\n",
    "4,8 | 4,0\n",
    "5,0 | 4,0"
   ]
  },
  {
   "cell_type": "code",
   "execution_count": 3,
   "metadata": {},
   "outputs": [
    {
     "name": "stdout",
     "output_type": "stream",
     "text": [
      "Полином 1 степени: y = 2.57 + 0.43*x\n",
      "Полином 2 степени: y = -132.25 + 60.70*x + -6.70*x^2\n",
      "Полином 3 степени: y = 598.75 + -429.91*x + 102.69*x^2 + -8.10*x^3\n"
     ]
    },
    {
     "data": {
      "image/png": "[encoded data removed]",
      "text/plain": [
       "<Figure size 640x480 with 1 Axes>"
      ]
     },
     "metadata": {},
     "output_type": "display_data"
    }
   ],
   "source": [
    "import numpy as np\n",
    "import scipy as sp\n",
    "import matplotlib.pyplot as plt\n",
    "\n",
    "x_data = [4., 4.2, 4.4, 4.6, 4.8, 5.]\n",
    "y_data = [4., 3., 6., 6., 4., 4.]\n",
    "\n",
    "def first(x, b0, b1):\n",
    "    return b0 + b1 * x\n",
    "\n",
    "def second(x, b0, b1, b2):\n",
    "    return b0 + b1 * x + b2 * x ** 2\n",
    "\n",
    "def third(x, b0, b1, b2, b3):\n",
    "    return b0 + b1 * x + b2 * x ** 2 + b3 * x ** 3\n",
    "\n",
    "\n",
    "beta_opt_first, beta_cov_first = sp.optimize.curve_fit(first, x_data, y_data)\n",
    "beta_opt_second, beta_cov_second = sp.optimize.curve_fit(second, x_data, y_data)\n",
    "beta_opt_third, beta_cov_third = sp.optimize.curve_fit(third, x_data, y_data)\n",
    "\n",
    "print(f'Полином 1 степени: y = {beta_opt_first[0]:.2f} + {beta_opt_first[1]:.2f}*x')\n",
    "print(f'Полином 2 степени: y = {beta_opt_second[0]:.2f} + {beta_opt_second[1]:.2f}*x + {beta_opt_second[2]:.2f}*x^2')\n",
    "print(f'Полином 3 степени: y = {beta_opt_third[0]:.2f} + {beta_opt_third[1]:.2f}*x + {beta_opt_third[2]:.2f}*x^2 + {beta_opt_third[3]:.2f}*x^3')\n",
    "\n",
    "fig, ax = plt.subplots()\n",
    "ax.scatter(x_data, y_data, color='gray', label='Исходные данные')\n",
    "\n",
    "x = np.linspace(3.9, 5.1, 25)\n",
    "y = first(x, *beta_opt_first)\n",
    "ax.plot(x, y, 'r', lw=2, label='Полином 1 степени')\n",
    "\n",
    "y = second(x, *beta_opt_second)\n",
    "ax.plot(x, y, 'b', lw=2, label='Полином 2 степени')\n",
    "\n",
    "y = third(x, *beta_opt_third)\n",
    "ax.plot(x, y, 'g', lw=2, label='Полином 3 степени')\n",
    "\n",
    "\n",
    "ax.legend()\n",
    "plt.show()"
   ]
  },
  {
   "cell_type": "code",
   "execution_count": null,
   "metadata": {},
   "outputs": [],
   "source": []
  }
 ],
 "metadata": {
  "kernelspec": {
   "display_name": "Python 3 (ipykernel)",
   "language": "python",
   "name": "python3"
  },
  "language_info": {
   "codemirror_mode": {
    "name": "ipython",
    "version": 3
   },
   "file_extension": ".py",
   "mimetype": "text/x-python",
   "name": "python",
   "nbconvert_exporter": "python",
   "pygments_lexer": "ipython3",
   "version": "3.9.13"
  }
 },
 "nbformat": 4,
 "nbformat_minor": 2
}
