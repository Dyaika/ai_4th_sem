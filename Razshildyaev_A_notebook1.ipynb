{
 "cells": [
  {
   "cell_type": "markdown",
   "id": "17b3d18d",
   "metadata": {},
   "source": [
    "# Рабочая тетрадь 1 Разшильдяев Александр"
   ]
  },
  {
   "cell_type": "markdown",
   "id": "8b1d8d3d",
   "metadata": {},
   "source": [
    "## 1.2 Пример"
   ]
  },
  {
   "cell_type": "markdown",
   "id": "5522091c",
   "metadata": {},
   "source": [
    "***Задача:*** Выведите на печать и определите тип переменной"
   ]
  },
  {
   "cell_type": "code",
   "execution_count": 2,
   "id": "32431568",
   "metadata": {},
   "outputs": [],
   "source": [
    "x = 3 + 5.2 * 7\n",
    "y = None\n",
    "z = 'a', 5, 12.345, (2, 'b')\n",
    "df = [['Антонова Антонина', 34, 'ж'], ['Борисов Борис', 26, 'м']]\n",
    "A = {1, 'title', 2, 'content'}"
   ]
  },
  {
   "cell_type": "markdown",
   "id": "539ba163",
   "metadata": {},
   "source": [
    "***Решание:***"
   ]
  },
  {
   "cell_type": "code",
   "execution_count": 3,
   "id": "7eeff501",
   "metadata": {},
   "outputs": [
    {
     "name": "stdout",
     "output_type": "stream",
     "text": [
      "39.4 | <class 'float'> \n",
      " None | <class 'NoneType'> \n",
      " ('a', 5, 12.345, (2, 'b')) | <class 'tuple'> \n",
      " [['Антонова Антонина', 34, 'ж'], ['Борисов Борис', 26, 'м']] | <class 'list'> \n",
      " {1, 2, 'title', 'content'} | <class 'set'>\n"
     ]
    }
   ],
   "source": [
    "print(x, '|', type(x), '\\n', y, '|', type(y), '\\n',\n",
    "      z, '|', type(z), '\\n', df, '|', type(df), '\\n', A, '|', type(A))"
   ]
  },
  {
   "cell_type": "markdown",
   "id": "4c529b30",
   "metadata": {},
   "source": [
    "## 1.3 Задание\n",
    "***Задача:***\n",
    "Выведите на печать и определите тип переменной."
   ]
  },
  {
   "cell_type": "code",
   "execution_count": 2,
   "id": "6d2e9368",
   "metadata": {},
   "outputs": [],
   "source": [
    "X = 5 >= 2\n",
    "A = {1, 3, 7, 8}\n",
    "B = {2, 4, 5, 10, 'apple'}\n",
    "C = A & B\n",
    "df = 'Антонова Антонина', 34, 'ж'\n",
    "Z = 'type'\n",
    "D = [1, 'title', 2, 'content']"
   ]
  },
  {
   "cell_type": "markdown",
   "id": "84464311",
   "metadata": {},
   "source": [
    "***Решение:***"
   ]
  },
  {
   "cell_type": "code",
   "execution_count": 5,
   "id": "a41a2d9b",
   "metadata": {},
   "outputs": [
    {
     "name": "stdout",
     "output_type": "stream",
     "text": [
      "True | <class 'bool'>\n",
      "{8, 1, 3, 7} | <class 'set'>\n",
      "{'apple', 2, 4, 5, 10} | <class 'set'>\n",
      "set() | <class 'set'>\n",
      "('Антонова Антонина', 34, 'ж') | <class 'tuple'>\n",
      "type | <class 'str'>\n",
      "[1, 'title', 2, 'content'] | <class 'list'>\n"
     ]
    }
   ],
   "source": [
    "print(X, '|', type(X))\n",
    "print(A, '|', type(A))\n",
    "print(B, '|', type(B))\n",
    "print(C, '|', type(C))\n",
    "print(df, '|', type(df))\n",
    "print(Z, '|', type(Z))\n",
    "print(D, '|', type(D))"
   ]
  },
  {
   "cell_type": "markdown",
   "id": "82b21bf8",
   "metadata": {},
   "source": [
    "## 2.2 Пример\n",
    "***Задача:*** Вывести на экран является ли переменная х положительной, отрицательной или равна нулю. </br>\n",
    "***Решение:***\n"
   ]
  },
  {
   "cell_type": "code",
   "execution_count": 5,
   "id": "36533a6f",
   "metadata": {},
   "outputs": [
    {
     "name": "stdout",
     "output_type": "stream",
     "text": [
      "x положительный\n"
     ]
    }
   ],
   "source": [
    "x = 125\n",
    "if x < 0:\n",
    "    print('x отрицательный')\n",
    "elif x == 0:\n",
    "    print('x равен нулю')\n",
    "else:\n",
    "    print('x положительный')"
   ]
  },
  {
   "cell_type": "markdown",
   "id": "4831780a",
   "metadata": {},
   "source": [
    "## 2.3 Задание\n",
    "***Задача:*** Напишите код. Задается x, напечатать какому из интервалов принадлежит: (-infinity, -5), \\[-5, 5\\] или от (5, +infinity)</br>\n",
    "***Решение:***"
   ]
  },
  {
   "cell_type": "code",
   "execution_count": 4,
   "id": "25d400b3",
   "metadata": {
    "scrolled": true
   },
   "outputs": [
    {
     "name": "stdout",
     "output_type": "stream",
     "text": [
      "6\n",
      "6 в интервале (5, +infinity)\n"
     ]
    }
   ],
   "source": [
    "x = int(input())\n",
    "if (x < -5):\n",
    "    print(f'{x} в интервале (-infinity, -5)')\n",
    "elif (x <= 5):\n",
    "    print(f'{x} в интервале [-5, 5]')\n",
    "else:\n",
    "    print(f'{x} в интервале (5, +infinity)')"
   ]
  },
  {
   "cell_type": "markdown",
   "id": "68565622",
   "metadata": {},
   "source": [
    "## 3.2.1 Пример\n",
    "***Задача:*** Вывести все числа от 1 до 10 с шагом 3.</br>\n",
    "***Решение:***"
   ]
  },
  {
   "cell_type": "code",
   "execution_count": 6,
   "id": "7c2f5673",
   "metadata": {},
   "outputs": [
    {
     "name": "stdout",
     "output_type": "stream",
     "text": [
      "1\n",
      "4\n",
      "7\n",
      "10\n"
     ]
    }
   ],
   "source": [
    "x = 1\n",
    "while x <= 10:\n",
    "    print(x)\n",
    "    x += 3"
   ]
  },
  {
   "cell_type": "markdown",
   "id": "d6ad7efe",
   "metadata": {},
   "source": [
    "## 3.2.2 Пример\n",
    "***Задача:*** Задан список. Напечатать все элементы списка.</br>\n",
    "***Решение:***"
   ]
  },
  {
   "cell_type": "code",
   "execution_count": 7,
   "id": "60aac37b",
   "metadata": {},
   "outputs": [
    {
     "name": "stdout",
     "output_type": "stream",
     "text": [
      "KNN\n",
      "desision tree\n",
      "linear model\n"
     ]
    }
   ],
   "source": [
    "models = ['KNN', 'desision tree', 'linear model']\n",
    "for model in models:\n",
    "    print(model)"
   ]
  },
  {
   "cell_type": "markdown",
   "id": "62edc885",
   "metadata": {},
   "source": [
    "## 3.2.3 Пример\n",
    "***Задача:*** Создать список от 1 до 99 с шагом 7.</br>\n",
    "***Решение:***"
   ]
  },
  {
   "cell_type": "code",
   "execution_count": 10,
   "id": "ae52aae9",
   "metadata": {},
   "outputs": [
    {
     "name": "stdout",
     "output_type": "stream",
     "text": [
      "[1, 8, 15, 22, 29, 36, 43, 50, 57, 64, 71, 78, 85, 92, 99]\n"
     ]
    }
   ],
   "source": [
    "list_int = range(1, 100, 7)\n",
    "print(list(list_int))"
   ]
  },
  {
   "cell_type": "markdown",
   "id": "c69aad89",
   "metadata": {},
   "source": [
    "## 3.2.4 Пример\n",
    "***Задача:*** Вывести на экран числа от 1 до 105 с шагом 25, используя функцию \n",
    "range()\n",
    ".</br>\n",
    "***Решение:***"
   ]
  },
  {
   "cell_type": "code",
   "execution_count": 11,
   "id": "4c0c16b0",
   "metadata": {},
   "outputs": [
    {
     "name": "stdout",
     "output_type": "stream",
     "text": [
      "5\n",
      "30\n",
      "55\n",
      "80\n",
      "105\n"
     ]
    }
   ],
   "source": [
    "for i in range(5, 106, 25):\n",
    "    print(i)"
   ]
  },
  {
   "cell_type": "markdown",
   "id": "aa5512d1",
   "metadata": {},
   "source": [
    "## 3.2.5 Пример\n",
    "***Задача:***  Необходимо получить каждый k-й элемент массива a, начиная с \n",
    "элемента с индексом i (включительно) и заканчивая элементом с \n",
    "индексом j (не включительно), c шагом 2. Или переставить все \n",
    "элементы в обратном порядке.\n",
    ".</br>\n",
    "***Решение:***"
   ]
  },
  {
   "cell_type": "code",
   "execution_count": 12,
   "id": "1886d455",
   "metadata": {},
   "outputs": [
    {
     "name": "stdout",
     "output_type": "stream",
     "text": [
      "[2, 4, 6]\n",
      "[9, 8, 7, 6, 5, 4, 3, 2, 1]\n"
     ]
    }
   ],
   "source": [
    "a = [1, 2, 3, 4, 5, 6, 7, 8, 9]\n",
    "b = a[1:7:2]\n",
    "c = a[::-1]\n",
    "print(b)\n",
    "print(c)"
   ]
  },
  {
   "cell_type": "markdown",
   "id": "a91ecfc9",
   "metadata": {},
   "source": [
    "## 3.3.1 Задание\n",
    "***Задача:***  Выведите числа из примера на while (3.2.1) в обратном порядке.</br>\n",
    "***Решение:***"
   ]
  },
  {
   "cell_type": "code",
   "execution_count": 13,
   "id": "82ec7ac9",
   "metadata": {},
   "outputs": [
    {
     "name": "stdout",
     "output_type": "stream",
     "text": [
      "10\n",
      "7\n",
      "4\n",
      "1\n"
     ]
    }
   ],
   "source": [
    "x = 10\n",
    "while x >= 1:\n",
    "    print(x)\n",
    "    x -= 3"
   ]
  },
  {
   "cell_type": "markdown",
   "id": "b9bda39e",
   "metadata": {},
   "source": [
    "## 3.3.2 Задание\n",
    "***Задача:***  При решении задач машинного обучения часто в качестве объектов исследования выступает человек. Создайте список значимых характеристик (признаков), идентифицирующих человека. Выведите список на экран.</br>\n",
    "***Решение:***"
   ]
  },
  {
   "cell_type": "code",
   "execution_count": 14,
   "id": "9cca9f25",
   "metadata": {},
   "outputs": [
    {
     "name": "stdout",
     "output_type": "stream",
     "text": [
      "['Разшильдяев А.М.', 19, 'м', 2003]\n"
     ]
    }
   ],
   "source": [
    "list_human = ['Разшильдяев А.М.', 19, 'м', 2003]\n",
    "print(list_human)"
   ]
  },
  {
   "cell_type": "markdown",
   "id": "4c2c0a41",
   "metadata": {},
   "source": [
    "## 3.3.3 Задание\n",
    "***Задача:***  Создать список чисел от 2 до 15 с шагом 1.</br>\n",
    "***Решение:***"
   ]
  },
  {
   "cell_type": "code",
   "execution_count": 15,
   "id": "f8b30b2f",
   "metadata": {},
   "outputs": [
    {
     "name": "stdout",
     "output_type": "stream",
     "text": [
      "[2, 3, 4, 5, 6, 7, 8, 9, 10, 11, 12, 13, 14, 15]\n"
     ]
    }
   ],
   "source": [
    "list_int = range(2, 16)\n",
    "print(list(list_int))"
   ]
  },
  {
   "cell_type": "markdown",
   "id": "57d09070",
   "metadata": {},
   "source": [
    "## 3.3.4 Задание\n",
    "***Задача:*** Выведите числа из примера на for c функцией range() (3.2.4) в \n",
    "обратном порядке\n",
    ".</br>\n",
    "***Решение:***"
   ]
  },
  {
   "cell_type": "code",
   "execution_count": 16,
   "id": "94b71664",
   "metadata": {},
   "outputs": [
    {
     "name": "stdout",
     "output_type": "stream",
     "text": [
      "105\n",
      "80\n",
      "55\n",
      "30\n",
      "5\n"
     ]
    }
   ],
   "source": [
    "for i in range(105, 4, -25):\n",
    "    print(i)"
   ]
  },
  {
   "cell_type": "markdown",
   "id": "d52059df",
   "metadata": {},
   "source": [
    "## 3.3.5 Задание\n",
    "***Задача:*** Напишите код, который все элементы массива x с четными \n",
    "индексами переставит в обратном порядке. Т.е. если x = [0, 1, 2, 3, 4, 5, 6, 7, 8, 9], то код должен сформировать [8, 1, 6, 3, 4, 5, 2, 7, 0, 9].\n",
    "</br>\n",
    "***Решение:***"
   ]
  },
  {
   "cell_type": "code",
   "execution_count": 30,
   "id": "259ab583",
   "metadata": {},
   "outputs": [
    {
     "name": "stdout",
     "output_type": "stream",
     "text": [
      "[8, 1, 6, 3, 4, 4, 6, 2, 8, 0]\n"
     ]
    }
   ],
   "source": [
    "x = [0, 1, 2, 3, 4, 5, 6, 7, 8, 9]\n",
    "for i in range(0, len(x) // 2 + 1, 2):\n",
    "    temp = x[i]\n",
    "    x[i] = x[len(x) - i + len(x) % 2 - 2]\n",
    "    x[len(x) - i - 1] = temp\n",
    "print(x)"
   ]
  },
  {
   "cell_type": "markdown",
   "id": "246608b9",
   "metadata": {},
   "source": [
    "## 4.2.1 Пример\n",
    "***Задача:*** Рассчитать синус от е радиан и вывести результат на экран\n",
    "</br>\n",
    "***Решение:***"
   ]
  },
  {
   "cell_type": "code",
   "execution_count": 31,
   "id": "7a3960e7",
   "metadata": {},
   "outputs": [
    {
     "name": "stdout",
     "output_type": "stream",
     "text": [
      "0.41078129050290885\n"
     ]
    }
   ],
   "source": [
    "import math as m\n",
    "print(m.sin(m.e))"
   ]
  },
  {
   "cell_type": "markdown",
   "id": "1130628f",
   "metadata": {},
   "source": [
    "## 4.2.2 Пример\n",
    "***Задача:*** Для функции $$sin\\left(𝑥𝑒^{cos(𝑥)}\\right)$$ на интервале [0;10] с шагом 0,05 построить \n",
    "график функции, закрасить площадь под ним и вычислить значение \n",
    "этой площади.\n",
    "</br>\n",
    "***Решение:***"
   ]
  },
  {
   "cell_type": "code",
   "execution_count": 34,
   "id": "b74ba46a",
   "metadata": {},
   "outputs": [
    {
     "name": "stdout",
     "output_type": "stream",
     "text": [
      "73.50792907748662\n"
     ]
    },
    {
     "data": {
      "image/png": "[encoded data removed]",
      "text/plain": [
       "<Figure size 640x480 with 1 Axes>"
      ]
     },
     "metadata": {},
     "output_type": "display_data"
    }
   ],
   "source": [
    "import numpy as np\n",
    "import matplotlib.pyplot as plt\n",
    "from scipy.integrate import simps\n",
    "from numpy import trapz\n",
    "x = np.arange(0.0, 10, 0.1)\n",
    "y = np.abs(np.sin(x * np.exp(np.cos(x))))\n",
    "plt.grid()\n",
    "plt.plot(x, y, c = 'r')\n",
    "plt.fill_between(x, y)\n",
    "\n",
    "area = trapz(y)\n",
    "print(area)"
   ]
  },
  {
   "cell_type": "markdown",
   "id": "f506d5a6",
   "metadata": {},
   "source": [
    "## 4.2.3 Пример\n",
    "***Задача:*** Дано некоторое распределение оценок в группе за экзамен. Нарисовать \n",
    "круговую и точечную диаграммы распределения.\n",
    "</br>\n",
    "***Решение:***"
   ]
  },
  {
   "cell_type": "code",
   "execution_count": 35,
   "id": "1591b45d",
   "metadata": {},
   "outputs": [
    {
     "data": {
      "image/png": "[encoded data removed]",
      "text/plain": [
       "<Figure size 1000x700 with 1 Axes>"
      ]
     },
     "metadata": {},
     "output_type": "display_data"
    },
    {
     "data": {
      "text/plain": [
       "<matplotlib.collections.PathCollection at 0x1fead3925e0>"
      ]
     },
     "execution_count": 35,
     "metadata": {},
     "output_type": "execute_result"
    },
    {
     "data": {
      "image/png": "[encoded data removed]",
      "text/plain": [
       "<Figure size 640x480 with 1 Axes>"
      ]
     },
     "metadata": {},
     "output_type": "display_data"
    }
   ],
   "source": [
    "from matplotlib import pyplot as plt\n",
    "import numpy as np\n",
    "\n",
    "marks = ['Неуд', 'Удовл', 'Хор', 'Отл']\n",
    "\n",
    "data = [3, 7, 8, 4]\n",
    "fig = plt.figure(figsize = (10, 7))\n",
    "plt.pie(data, labels = marks)\n",
    "plt.show()\n",
    "plt.grid()\n",
    "plt.scatter(marks, data)"
   ]
  },
  {
   "cell_type": "markdown",
   "id": "b3d5dd41",
   "metadata": {},
   "source": [
    "## 4.3.1 Задание\n",
    "***Задача:*** Задайте массив случайных значений из интервала(0; 1). \n",
    "Рассчитайте средние и медианные значения для массива, сравните \n",
    "результаты, какие выводы можно сделать о значениях? \n",
    "Постройте точечную диаграмму рассения полученного ряда\n",
    "</br>\n",
    "***Решение:***"
   ]
  },
  {
   "cell_type": "code",
   "execution_count": 10,
   "id": "62d6b067",
   "metadata": {},
   "outputs": [
    {
     "name": "stdout",
     "output_type": "stream",
     "text": [
      "average = 0.4624638306090441\n",
      "median = 0.43369651750983435\n",
      "0.4624638306090441 >= 0.43369651750983435\n"
     ]
    },
    {
     "data": {
      "text/plain": [
       "<matplotlib.collections.PathCollection at 0x21638d8aeb0>"
      ]
     },
     "execution_count": 10,
     "metadata": {},
     "output_type": "execute_result"
    },
    {
     "data": {
      "image/png": "[encoded data removed]",
      "text/plain": [
       "<Figure size 432x288 with 1 Axes>"
      ]
     },
     "metadata": {
      "needs_background": "light"
     },
     "output_type": "display_data"
    }
   ],
   "source": [
    "import random\n",
    "import numpy as np\n",
    "from matplotlib import pyplot as plt\n",
    "\n",
    "arr = []\n",
    "for i in range(100):\n",
    "    arr.append(random.random())\n",
    "\n",
    "print(f'average = {np.mean(arr)}')\n",
    "print(f'median = {np.median(arr)}')\n",
    "print(max(np.mean(arr), np.median(arr)), '>=',\n",
    "      min(np.mean(arr), np.median(arr)))\n",
    "\n",
    "plt.grid()\n",
    "plt.scatter(np.arange(100), arr)"
   ]
  },
  {
   "cell_type": "markdown",
   "id": "45411cda",
   "metadata": {},
   "source": [
    "## 4.3.2 Задание\n",
    "***Задача:*** Дана функция \n",
    "$$\n",
    "\\frac{\\sqrt{1+e^{\\sqrt{x}}+cos x^2}}{|1-sin^3x|}+ ln|2x|\n",
    "$$\n",
    "Создать массив из 10 значений\n",
    "функции (𝑥, например, изменяется от 1 до 10). Выделить срез первой\n",
    "половины массива и построить графики для основного массива –\n",
    "линейный и для среза – точечный\n",
    "</br>\n",
    "***Решение:***"
   ]
  },
  {
   "cell_type": "code",
   "execution_count": 32,
   "id": "6fd9decd",
   "metadata": {},
   "outputs": [
    {
     "data": {
      "image/png": "[encoded data removed]",
      "text/plain": [
       "<Figure size 432x288 with 1 Axes>"
      ]
     },
     "metadata": {
      "needs_background": "light"
     },
     "output_type": "display_data"
    },
    {
     "data": {
      "text/plain": [
       "<matplotlib.collections.PathCollection at 0x2163b539610>"
      ]
     },
     "execution_count": 32,
     "metadata": {},
     "output_type": "execute_result"
    },
    {
     "data": {
      "image/png": "[encoded data removed]",
      "text/plain": [
       "<Figure size 432x288 with 1 Axes>"
      ]
     },
     "metadata": {
      "needs_background": "light"
     },
     "output_type": "display_data"
    }
   ],
   "source": [
    "import numpy as np\n",
    "from matplotlib import pyplot as plt\n",
    "\n",
    "x = np.arange(1, 11)\n",
    "y = np.sqrt(1 + np.cos(np.power(x, 2)) + np.power(np.e, np.sqrt(x))) \\\n",
    "    / np.abs(1 - np.power(np.sin(x), 3)) + np.log(np.abs(2 * x))\n",
    "_y = y[:len(y) // 2:]\n",
    "_x = x[:len(x) // 2:]\n",
    "plt.grid()\n",
    "plt.plot(x, y)\n",
    "plt.show()\n",
    "plt.scatter(_x, _y)"
   ]
  },
  {
   "cell_type": "markdown",
   "id": "780c313e",
   "metadata": {},
   "source": [
    "## 4.3.3 Задание\n",
    "***Задача:*** Дана функция \n",
    "$$\n",
    "|cos(xe^{cos(x)+ln(x+1)})|\n",
    "$$\n",
    "Построить график на\n",
    "интервале (0,10) с шагом 1 с заливкой площади и найти эту площадь под ним. Для вычисления площади воспользуйте функции trapz(),\n",
    "вычисляющей интеграл по правилу трапеции.\n",
    "Для ее корректной работы необходимо подключить следующие\n",
    "библиотеки:\n",
    "from scipy.integrate import simps\n",
    "from numpy import trapz\n",
    "</br>\n",
    "***Решение:***"
   ]
  },
  {
   "cell_type": "code",
   "execution_count": 38,
   "id": "bd695eb5",
   "metadata": {},
   "outputs": [
    {
     "name": "stdout",
     "output_type": "stream",
     "text": [
      "area=6.260345875494736\n"
     ]
    },
    {
     "data": {
      "image/png": "[encoded data removed]",
      "text/plain": [
       "<Figure size 432x288 with 1 Axes>"
      ]
     },
     "metadata": {
      "needs_background": "light"
     },
     "output_type": "display_data"
    }
   ],
   "source": [
    "import numpy as np\n",
    "from matplotlib import pyplot as plt\n",
    "from scipy.integrate import simps\n",
    "from numpy import trapz\n",
    "\n",
    "x = np.arange(10)\n",
    "y = np.abs(np.cos(x * np.power(np.e, np.cos(x) + np.log(x+1))))\n",
    "plt.grid()\n",
    "plt.plot(x, y, c='r')\n",
    "plt.fill_between(x, y)\n",
    "area = trapz(y)\n",
    "print(f'area={area}')"
   ]
  },
  {
   "cell_type": "markdown",
   "id": "e706d183",
   "metadata": {},
   "source": [
    "## 4.3.4 Задание\n",
    "***Задача:*** Откройте статистические данные по стоимости акций Apple,\n",
    "Microsoft, Google за 12 месяцев 2021 г. Постройте 3 графика на\n",
    "плоскости и оцените их динамику. Подумайте, как можно улучшить\n",
    "читаемость результатов.\n",
    "Для начальных данных допустимо использовать следующий ресурс:\n",
    "https://finance.yahoo.com\n",
    "</br>\n",
    "***Решение:***"
   ]
  },
  {
   "cell_type": "code",
   "execution_count": 42,
   "id": "b5ca3787",
   "metadata": {},
   "outputs": [
    {
     "data": {
      "image/png": "[encoded data removed]",
      "text/plain": [
       "<Figure size 432x288 with 1 Axes>"
      ]
     },
     "metadata": {
      "needs_background": "light"
     },
     "output_type": "display_data"
    },
    {
     "data": {
      "image/png": "[encoded data removed]",
      "text/plain": [
       "<Figure size 432x288 with 1 Axes>"
      ]
     },
     "metadata": {
      "needs_background": "light"
     },
     "output_type": "display_data"
    },
    {
     "data": {
      "text/plain": [
       "[<matplotlib.lines.Line2D at 0x2163cfb38e0>]"
      ]
     },
     "execution_count": 42,
     "metadata": {},
     "output_type": "execute_result"
    },
    {
     "data": {
      "image/png": "[encoded data removed]",
      "text/plain": [
       "<Figure size 432x288 with 1 Axes>"
      ]
     },
     "metadata": {
      "needs_background": "light"
     },
     "output_type": "display_data"
    }
   ],
   "source": [
    "import numpy as np\n",
    "from matplotlib import pyplot as plt\n",
    "\n",
    "x = ['Jan', 'Feb', 'Mar', 'Apr', 'May', 'Jun', 'Jul', 'Aug', 'Sep', 'Oct', 'Nov', 'Dec']\n",
    "goog = [91, 92, 102, 104, 120, 121, 124, 135, 145, 133, 148, 144]\n",
    "plt.grid()\n",
    "plt.plot(x, goog, c='r')\n",
    "plt.show()\n",
    "msft = [222, 235, 235, 238, 253, 251, 269, 286, 302, 282, 331, 335]\n",
    "plt.plot(x, msft, c='b')\n",
    "plt.show()\n",
    "aapl = [131, 121, 122, 131, 124, 136, 145, 151, 141, 149, 165, 177]\n",
    "plt.plot(x, aapl, c='g')"
   ]
  },
  {
   "cell_type": "markdown",
   "id": "6d790747",
   "metadata": {},
   "source": [
    "## 4.3.5 Задание\n",
    "***Задача:*** Создайте простейший калькулятор, включающий основные действия\n",
    "для двух переменных ′ + ′, ′ − ′, ′ ∙ ′, ′ ÷ ′, а также вычисление\n",
    "следующих функций: \n",
    "$$\n",
    "𝑒^{x+y}, sin(𝑥 + 𝑦) , cos(𝑥 + 𝑦) , 𝑥^𝑦\n",
    "$$\n",
    "***Решение:***"
   ]
  },
  {
   "cell_type": "code",
   "execution_count": 63,
   "id": "4d789439",
   "metadata": {},
   "outputs": [
    {
     "name": "stdout",
     "output_type": "stream",
     "text": [
      "x, y =\n",
      "12 8\n",
      "+, -, *, /\n",
      "1) e^(x+y)\n",
      "2) sin(x+y)\n",
      "3) x^y\n",
      "1\n",
      "e^(12+8)=485165195.4097903\n"
     ]
    }
   ],
   "source": [
    "import math\n",
    "print('x, y =')\n",
    "x, y = input().split()\n",
    "x = int(x)\n",
    "y = int(y)\n",
    "print('+, -, *, /\\n1) e^(x+y)\\n2) sin(x+y)\\n3) x^y')\n",
    "op = input()\n",
    "if op == '+':\n",
    "    print(f'{x}+{y}={x+y}')\n",
    "elif op == '-':\n",
    "    print(f'{x}-{y}={x-y}')\n",
    "elif op == '*':\n",
    "    print(f'{x}*{y}={x*y}')\n",
    "elif op == '/':\n",
    "    if(y==0):\n",
    "        print('wrong input')\n",
    "    else:\n",
    "        print(f'{x}/{y}={x/y}')\n",
    "elif op == '1':\n",
    "    print(f'e^({x}+{y})={math.exp(x+y)}')\n",
    "elif op == '2':\n",
    "    print(f'sin({x}+{y})={math.sin(x+y)}')\n",
    "elif op == '3':\n",
    "    print(f'x^y={x ** y}')\n",
    "else:\n",
    "    print('wrong input')\n",
    "    "
   ]
  }
 ],
 "metadata": {
  "kernelspec": {
   "display_name": "Python 3 (ipykernel)",
   "language": "python",
   "name": "python3"
  },
  "language_info": {
   "codemirror_mode": {
    "name": "ipython",
    "version": 3
   },
   "file_extension": ".py",
   "mimetype": "text/x-python",
   "name": "python",
   "nbconvert_exporter": "python",
   "pygments_lexer": "ipython3",
   "version": "3.9.12"
  }
 },
 "nbformat": 4,
 "nbformat_minor": 5
}
