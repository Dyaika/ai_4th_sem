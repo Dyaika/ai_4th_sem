{
 "cells": [
  {
   "cell_type": "markdown",
   "id": "ae832bfb",
   "metadata": {},
   "source": [
    "# Рабочая тетрадь 1 Разшильдяев Александр"
   ]
  },
  {
   "cell_type": "markdown",
   "id": "42c5cff1",
   "metadata": {},
   "source": [
    "## 1.2.1 Пример\n",
    "***Задача:***</br> Создать массив 5x2. Создать массив 5x2. Вывести все значения массива,\n",
    "значение элемента с индексом (3,1) и второй столбец. Индексация\n",
    "начинается с нуля.\n",
    "</br> ***Решение:***"
   ]
  },
  {
   "cell_type": "code",
   "execution_count": 2,
   "id": "3f3adf41",
   "metadata": {},
   "outputs": [
    {
     "name": "stdout",
     "output_type": "stream",
     "text": [
      "[[ 1  2]\n",
      " [ 3  4]\n",
      " [ 5  6]\n",
      " [ 7  8]\n",
      " [ 9 10]]\n",
      "8\n",
      "[3 4]\n"
     ]
    }
   ],
   "source": [
    "import numpy as np\n",
    "x = np.array([[1, 2], [3, 4], [5, 6], [7, 8], [9, 10]])\n",
    "print(x)\n",
    "print(x[3][1])\n",
    "print(x[1])"
   ]
  },
  {
   "cell_type": "markdown",
   "id": "a86b4b8e",
   "metadata": {},
   "source": [
    "## 1.2.2 Пример\n",
    "***Задача:***</br> Выполнить следующее:\n",
    "1. Создать вектор (одномерный массив) размера 10, заполненный\n",
    "нулями.\n",
    "2. Создать вектор размера 10, заполненный единицами.\n",
    "3. Создать вектор размера 10, заполненный заданным числом.\n",
    "4. Создать вектор со значениями от 10 до 19.\n",
    "</br> ***Решение:***"
   ]
  },
  {
   "cell_type": "code",
   "execution_count": 4,
   "id": "c453ad0a",
   "metadata": {},
   "outputs": [
    {
     "name": "stdout",
     "output_type": "stream",
     "text": [
      "[0. 0. 0. 0. 0. 0. 0. 0. 0. 0.]\n",
      "[1. 1. 1. 1. 1. 1. 1. 1. 1. 1.]\n",
      "[5 5 5 5 5 5 5 5 5 5]\n",
      "[10 11 12 13 14 15 16 17 18 19]\n"
     ]
    }
   ],
   "source": [
    "a = np.zeros(10)\n",
    "b = np.ones(10)\n",
    "c = np.full(10, 5)\n",
    "d = np.arange(10, 20)\n",
    "print(a, b, c, d, sep='\\n')"
   ]
  },
  {
   "cell_type": "markdown",
   "id": "06e8f9da",
   "metadata": {},
   "source": [
    "## 1.2.3 Пример\n",
    "***Задача:***</br> Создать массив 10x10 со случайными значениями, найти минимум,\n",
    "максимум и среднее значение.\n",
    "</br> ***Решение:***"
   ]
  },
  {
   "cell_type": "code",
   "execution_count": 5,
   "id": "b2920129",
   "metadata": {},
   "outputs": [
    {
     "name": "stdout",
     "output_type": "stream",
     "text": [
      "0.002362469336740891 0.9910287394288765 0.5314795104412777\n"
     ]
    }
   ],
   "source": [
    "Z = np.random.random((10, 10))\n",
    "Zmin, Zmax, Zmean = Z.min(), Z.max(), Z.mean()\n",
    "print(Zmin, Zmax, Zmean)"
   ]
  },
  {
   "cell_type": "markdown",
   "id": "76e54714",
   "metadata": {},
   "source": [
    "## 1.2.4 Пример\n",
    "***Задача:***</br> Задать матрицу размерности 5 на 5 и поменять 2 строки в матрице\n",
    "местами.\n",
    "</br> ***Решение:***"
   ]
  },
  {
   "cell_type": "code",
   "execution_count": 10,
   "id": "1e942662",
   "metadata": {},
   "outputs": [
    {
     "name": "stdout",
     "output_type": "stream",
     "text": [
      "[[ 5  6  7  8  9]\n",
      " [ 0  1  2  3  4]\n",
      " [10 11 12 13 14]\n",
      " [15 16 17 18 19]\n",
      " [20 21 22 23 24]]\n"
     ]
    }
   ],
   "source": [
    "A = np.arange(25).reshape(5, 5)\n",
    "A[[0, 1]]= A[[1,0]]\n",
    "print(A)"
   ]
  },
  {
   "cell_type": "markdown",
   "id": "858dabb4",
   "metadata": {},
   "source": [
    "## 1.2.5 Пример\n",
    "***Задача:***</br> Выяснить результат следующих выражений:\n",
    "0 * np.nan\n",
    "np.nan == np.nan\n",
    "np.inf > np.nan\n",
    "np.nan - np.nan\n",
    "0.3 == 3 * 0.1\n",
    "</br> ***Решение:***"
   ]
  },
  {
   "cell_type": "code",
   "execution_count": 11,
   "id": "8a82fad8",
   "metadata": {},
   "outputs": [
    {
     "name": "stdout",
     "output_type": "stream",
     "text": [
      "nan\n",
      "False\n",
      "False\n",
      "nan\n",
      "False\n"
     ]
    }
   ],
   "source": [
    "print(0 * np.nan)\n",
    "print(np.nan == np.nan)\n",
    "print(np.inf > np.nan)\n",
    "print(np.nan - np.nan)\n",
    "print(0.3 == 3 * 0.1)"
   ]
  },
  {
   "cell_type": "markdown",
   "id": "e74b8803",
   "metadata": {},
   "source": [
    "## 1.2.6 Пример\n",
    "***Задача:***</br> Отсортировать массив\n",
    "</br> ***Решение:***"
   ]
  },
  {
   "cell_type": "code",
   "execution_count": 12,
   "id": "d9c65db0",
   "metadata": {},
   "outputs": [
    {
     "name": "stdout",
     "output_type": "stream",
     "text": [
      "[1 2 3 4 5 6 7 8]\n"
     ]
    }
   ],
   "source": [
    "arr = np.array([2, 1, 5, 3, 7, 4, 6, 8])\n",
    "print(np.sort(arr))"
   ]
  },
  {
   "cell_type": "markdown",
   "id": "901b45eb",
   "metadata": {},
   "source": [
    "## 1.3.1 Задание\n",
    "***Задача:***</br> Создать 8x8 матрицу и заполнить её в шахматном порядке нулями и\n",
    "единицами.\n",
    "</br> ***Решение:***"
   ]
  },
  {
   "cell_type": "code",
   "execution_count": 18,
   "id": "9ad224e0",
   "metadata": {},
   "outputs": [
    {
     "name": "stdout",
     "output_type": "stream",
     "text": [
      "[[0 1 0 1 0 1 0 1]\n",
      " [1 0 1 0 1 0 1 0]\n",
      " [0 1 0 1 0 1 0 1]\n",
      " [1 0 1 0 1 0 1 0]\n",
      " [0 1 0 1 0 1 0 1]\n",
      " [1 0 1 0 1 0 1 0]\n",
      " [0 1 0 1 0 1 0 1]\n",
      " [1 0 1 0 1 0 1 0]]\n"
     ]
    }
   ],
   "source": [
    "mx = np.arange(64)\n",
    "for x in range(64):\n",
    "    mx[x] = (x / 8 + x % 8) % 2\n",
    "mx = mx.reshape(8, 8)\n",
    "print(mx)"
   ]
  },
  {
   "cell_type": "markdown",
   "id": "517d4ac9",
   "metadata": {},
   "source": [
    "## 1.3.2 Задание\n",
    "***Задача:***</br> Создать 5x5 матрицу со значениями в строках от 0 до 4. Для создания\n",
    "необходимо использовать функцию arrange\n",
    "</br> ***Решение:***"
   ]
  },
  {
   "cell_type": "code",
   "execution_count": 21,
   "id": "bbc5c933",
   "metadata": {},
   "outputs": [
    {
     "name": "stdout",
     "output_type": "stream",
     "text": [
      "[[0 1 2 3 4]\n",
      " [0 1 2 3 4]\n",
      " [0 1 2 3 4]\n",
      " [0 1 2 3 4]\n",
      " [0 1 2 3 4]]\n"
     ]
    }
   ],
   "source": [
    "mx = np.arange(25)\n",
    "for x in range(25):\n",
    "    mx[x] = x % 5\n",
    "mx = mx.reshape(5, 5)\n",
    "print(mx)"
   ]
  },
  {
   "cell_type": "markdown",
   "id": "13319410",
   "metadata": {},
   "source": [
    "## 1.3.3 Задание\n",
    "***Задача:***</br> Создать массив 3x3x3 со случайными значениями.\n",
    "</br> ***Решение:***"
   ]
  },
  {
   "cell_type": "code",
   "execution_count": 30,
   "id": "9add3797",
   "metadata": {},
   "outputs": [
    {
     "name": "stdout",
     "output_type": "stream",
     "text": [
      "[[[0.37885677 0.58094272 0.08112444]\n",
      "  [0.17646491 0.51063355 0.3183359 ]\n",
      "  [0.71747633 0.9604506  0.56718198]]\n",
      "\n",
      " [[0.75060281 0.24440191 0.17190726]\n",
      "  [0.10809311 0.596912   0.31153533]\n",
      "  [0.64293993 0.12310483 0.14668144]]\n",
      "\n",
      " [[0.60574884 0.96784292 0.47182298]\n",
      "  [0.82529551 0.52173912 0.70706739]\n",
      "  [0.35819732 0.74814822 0.04141651]]]\n"
     ]
    }
   ],
   "source": [
    "cube = np.random.random((3, 3, 3))\n",
    "print(cube)"
   ]
  },
  {
   "cell_type": "markdown",
   "id": "4655d848",
   "metadata": {},
   "source": [
    "## 1.3.4 Задание\n",
    "***Задача:***</br> Создать матрицу с 0 внутри, и 1 на границах.\n",
    "</br> ***Решение:***"
   ]
  },
  {
   "cell_type": "code",
   "execution_count": 46,
   "id": "ac7eb105",
   "metadata": {},
   "outputs": [
    {
     "name": "stdout",
     "output_type": "stream",
     "text": [
      "[[1 1 1 1 1 1]\n",
      " [1 0 0 0 0 1]\n",
      " [1 0 0 0 0 1]\n",
      " [1 0 0 0 0 1]\n",
      " [1 0 0 0 0 1]\n",
      " [1 0 0 0 0 1]\n",
      " [1 0 0 0 0 1]\n",
      " [1 1 1 1 1 1]]\n"
     ]
    }
   ],
   "source": [
    "w = 6\n",
    "h = 8\n",
    "mx = np.arange(w*h)\n",
    "for x in range(w*h):\n",
    "    mx[x] = x % w % (w-1) == 0 or x // w % (h-1) == 0\n",
    "mx = mx.reshape(h, w)\n",
    "print(mx)"
   ]
  },
  {
   "cell_type": "markdown",
   "id": "9855c8bb",
   "metadata": {},
   "source": [
    "## 1.3.5 Задание\n",
    "***Задача:***</br> Создайте массив и отсортируйте его по убыванию.\n",
    "</br> ***Решение:***"
   ]
  },
  {
   "cell_type": "code",
   "execution_count": 32,
   "id": "1c319e78",
   "metadata": {},
   "outputs": [
    {
     "name": "stdout",
     "output_type": "stream",
     "text": [
      "[8 7 6 5 4 3 2 1]\n"
     ]
    }
   ],
   "source": [
    "arr = np.array([2, 1, 5, 3, 7, 4, 6, 8])\n",
    "arr = np.sort(arr)[::-1]\n",
    "print(arr)"
   ]
  },
  {
   "cell_type": "markdown",
   "id": "ebce1504",
   "metadata": {},
   "source": [
    "## 1.3.6 Задание\n",
    "***Задача:***</br> Создайте матрицу, выведите ее форму, размер и размерность.\n",
    "</br> ***Решение:***"
   ]
  },
  {
   "cell_type": "code",
   "execution_count": 43,
   "id": "5c4cb38c",
   "metadata": {},
   "outputs": [
    {
     "name": "stdout",
     "output_type": "stream",
     "text": [
      "size=48\n",
      "shape=(8, 6)\n"
     ]
    },
    {
     "ename": "AttributeError",
     "evalue": "module 'numpy' has no attribute 'dimm'",
     "output_type": "error",
     "traceback": [
      "\u001b[1;31m---------------------------------------------------------------------------\u001b[0m",
      "\u001b[1;31mAttributeError\u001b[0m                            Traceback (most recent call last)",
      "Input \u001b[1;32mIn [43]\u001b[0m, in \u001b[0;36m<cell line: 6>\u001b[1;34m()\u001b[0m\n\u001b[0;32m      4\u001b[0m \u001b[38;5;28mprint\u001b[39m(\u001b[38;5;124mf\u001b[39m\u001b[38;5;124m'\u001b[39m\u001b[38;5;124msize=\u001b[39m\u001b[38;5;132;01m{\u001b[39;00mnp\u001b[38;5;241m.\u001b[39msize(mx)\u001b[38;5;132;01m}\u001b[39;00m\u001b[38;5;124m'\u001b[39m)\n\u001b[0;32m      5\u001b[0m \u001b[38;5;28mprint\u001b[39m(\u001b[38;5;124mf\u001b[39m\u001b[38;5;124m'\u001b[39m\u001b[38;5;124mshape=\u001b[39m\u001b[38;5;132;01m{\u001b[39;00mnp\u001b[38;5;241m.\u001b[39mshape(mx)\u001b[38;5;132;01m}\u001b[39;00m\u001b[38;5;124m'\u001b[39m)\n\u001b[1;32m----> 6\u001b[0m \u001b[38;5;28mprint\u001b[39m(\u001b[38;5;124mf\u001b[39m\u001b[38;5;124m'\u001b[39m\u001b[38;5;124msize=\u001b[39m\u001b[38;5;132;01m{\u001b[39;00mnp\u001b[38;5;241m.\u001b[39mdimm(mx)\u001b[38;5;132;01m}\u001b[39;00m\u001b[38;5;124m'\u001b[39m)\n",
      "File \u001b[1;32mC:\\ProgramData\\Anaconda3\\lib\\site-packages\\numpy\\__init__.py:313\u001b[0m, in \u001b[0;36m__getattr__\u001b[1;34m(attr)\u001b[0m\n\u001b[0;32m    310\u001b[0m     \u001b[38;5;28;01mfrom\u001b[39;00m \u001b[38;5;21;01m.\u001b[39;00m\u001b[38;5;21;01mtesting\u001b[39;00m \u001b[38;5;28;01mimport\u001b[39;00m Tester\n\u001b[0;32m    311\u001b[0m     \u001b[38;5;28;01mreturn\u001b[39;00m Tester\n\u001b[1;32m--> 313\u001b[0m \u001b[38;5;28;01mraise\u001b[39;00m \u001b[38;5;167;01mAttributeError\u001b[39;00m(\u001b[38;5;124m\"\u001b[39m\u001b[38;5;124mmodule \u001b[39m\u001b[38;5;132;01m{!r}\u001b[39;00m\u001b[38;5;124m has no attribute \u001b[39m\u001b[38;5;124m\"\u001b[39m\n\u001b[0;32m    314\u001b[0m                      \u001b[38;5;124m\"\u001b[39m\u001b[38;5;132;01m{!r}\u001b[39;00m\u001b[38;5;124m\"\u001b[39m\u001b[38;5;241m.\u001b[39mformat(\u001b[38;5;18m__name__\u001b[39m, attr))\n",
      "\u001b[1;31mAttributeError\u001b[0m: module 'numpy' has no attribute 'dimm'"
     ]
    }
   ],
   "source": [
    "w = 6\n",
    "h = 8\n",
    "mx = np.arange(w*h).reshape(h, w)\n",
    "print(f'size={np.size(mx)}')\n",
    "print(f'shape={np.shape(mx)}')\n",
    "print(f'size={np.dimm(mx)}')"
   ]
  },
  {
   "cell_type": "code",
   "execution_count": null,
   "id": "28d1a9e9",
   "metadata": {},
   "outputs": [],
   "source": []
  }
 ],
 "metadata": {
  "kernelspec": {
   "display_name": "Python 3 (ipykernel)",
   "language": "python",
   "name": "python3"
  },
  "language_info": {
   "codemirror_mode": {
    "name": "ipython",
    "version": 3
   },
   "file_extension": ".py",
   "mimetype": "text/x-python",
   "name": "python",
   "nbconvert_exporter": "python",
   "pygments_lexer": "ipython3",
   "version": "3.9.12"
  }
 },
 "nbformat": 4,
 "nbformat_minor": 5
}
