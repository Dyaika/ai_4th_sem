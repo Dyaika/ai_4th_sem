{
 "cells": [
  {
   "cell_type": "markdown",
   "id": "17b3d18d",
   "metadata": {},
   "source": [
    "# Рабочая тетрадь 5 Разшильдяев Александр"
   ]
  },
  {
   "cell_type": "markdown",
   "id": "8b1d8d3d",
   "metadata": {},
   "source": [
    "## 1.2.1 Пример"
   ]
  },
  {
   "cell_type": "markdown",
   "id": "5522091c",
   "metadata": {},
   "source": [
    "***Задача:*** Необходимо разработать виртуальную модель процесса обучения. В программе должны быть объекты ученики, учитель, кладезь знаний. Потребуется три класса – \"учитель\", \"ученик\", ученик во многом похожи, оба \"данные\". Учитель и люди. Значит, их классы могут принадлежать одному надклассу \"человек\". Однако в контексте данной задачи у учителя и ученика вряд ли найдутся общие атрибуты. Определим, что должны уметь объекты для решения задачи \"увеличить знания\":\n",
    "\n",
    "* Ученик должен уметь брать информацию и превращать ее в свои знания.\n",
    "* Учитель должен уметь учить группу учеников.\n",
    "* Данные могут представлять собой список знаний. Элементы будут извлекаться по индексу.</br>\n",
    "\n",
    "***Решение:***\n"
   ]
  },
  {
   "cell_type": "code",
   "execution_count": 2,
   "id": "32431568",
   "metadata": {},
   "outputs": [
    {
     "name": "stdout",
     "output_type": "stream",
     "text": [
      "['inheritance']\n",
      "['inheritance', 'class']\n"
     ]
    }
   ],
   "source": [
    "class Data:\n",
    "    def __init__(self, *info):\n",
    "        self.info = list(info)\n",
    "    def __getitem__(self, i):\n",
    "        return self.info[i]\n",
    "\n",
    "class Teacher:\n",
    "    def teach(self, info, *popil):\n",
    "        for i in popil:\n",
    "            i.take(info)\n",
    "\n",
    "class Pupil:\n",
    "    def __init__(self):\n",
    "        self.knowledge = []\n",
    "    def take(self, info):\n",
    "        self.knowledge.append(info)\n",
    "\n",
    "lesson = Data('class', 'object', 'inheritance', 'polymorphism', 'encapsulation')\n",
    "marIvanna = Teacher()\n",
    "vasy = Pupil()\n",
    "pety = Pupil()\n",
    "marIvanna.teach(lesson[2], vasy, pety)\n",
    "marIvanna.teach(lesson[0], pety)\n",
    "print(vasy.knowledge)\n",
    "print(pety.knowledge)"
   ]
  },
  {
   "cell_type": "markdown",
   "id": "4c529b30",
   "metadata": {},
   "source": [
    "## 1.2.2 Пример\n",
    "***Задача:***\n",
    "Напишите программу по следующему описанию. Есть класс \"Воин\". От него создаются два экземпляра-юнита. Каждому устанавливается здоровье в 100 очков. В случайном порядке они бьют друг друга. Тот, кто бьет, здоровья не теряет. У того, кого бьют, оно уменьшается на 20 очков от одного удара. После каждого удара надо выводить сообщение, какой юнит атаковал, и сколько у противника осталось здоровья. Как только у кого-то заканчивается ресурс здоровья, программа завершается сообщением о том, кто одержал победу.\n",
    "</br>***Решение:***"
   ]
  },
  {
   "cell_type": "code",
   "execution_count": 3,
   "id": "6d2e9368",
   "metadata": {},
   "outputs": [
    {
     "name": "stdout",
     "output_type": "stream",
     "text": [
      "Enter 1 to attack. Enter 2 to stop program1\n",
      "warrior2  has attacked\n",
      "80  left\n",
      "Enter 1 to let some warrior attack1\n",
      "warrior1  has attacked\n",
      "80  left\n",
      "Enter 1 to let some warrior attack1\n",
      "warrior2  has attacked\n",
      "60  left\n",
      "Enter 1 to let some warrior attack1\n",
      "warrior2  has attacked\n",
      "40  left\n",
      "Enter 1 to let some warrior attack2\n"
     ]
    }
   ],
   "source": [
    "import random\n",
    "class Warrior:\n",
    "    def __init__(self, health):\n",
    "        self.health = health\n",
    "    \n",
    "    def hit(self, target, target1):\n",
    "        if target.health > 0:\n",
    "            target.health -= 20\n",
    "        if target1 == warrior1:\n",
    "            target1 = \"warrior1\"\n",
    "        if target1 == warrior2:\n",
    "            target1 = \"warrior2\"\n",
    "        \n",
    "        print(target1, \" has attacked\")\n",
    "        print(target.health, \" left\")\n",
    "        if target.health == 0:\n",
    "            print(target1, \" has won\")\n",
    "\n",
    "warrior1 = Warrior(100)\n",
    "warrior2 = Warrior(100)\n",
    "q = int(input(\"Enter 1 to attack. Enter 2 to stop program\"))\n",
    "\n",
    "while q != 2:\n",
    "    if q == 1:\n",
    "        j = random.randint(1, 3)\n",
    "        if j % 2 == 0:\n",
    "            warrior1.hit(warrior2, warrior1)\n",
    "            q = int(input(\"Enter 1 to let some warrior attack\"))\n",
    "        else:\n",
    "            warrior2.hit(warrior1, warrior2)\n",
    "            q = int(input(\"Enter 1 to let some warrior attack\"))\n",
    "    else:\n",
    "        print(\"Wrong input.\")\n",
    "        break"
   ]
  },
  {
   "cell_type": "markdown",
   "id": "82b21bf8",
   "metadata": {},
   "source": [
    "## 1.2.3 Пример\n",
    "***Задача:*** Создайте класс по работе с дробями. В классе должна быть реализована следующая функциональность:\n",
    "\n",
    "* сложение дробей;\n",
    "* вычитание дробей;\n",
    "* умножение дробей;\n",
    "* деление дробей.\n",
    "\n",
    "***Решение:***\n"
   ]
  },
  {
   "cell_type": "code",
   "execution_count": 4,
   "id": "36533a6f",
   "metadata": {},
   "outputs": [
    {
     "name": "stdout",
     "output_type": "stream",
     "text": [
      "1/1\n",
      "1/6\n",
      "1/6\n",
      "3/2\n",
      "13/2\n"
     ]
    }
   ],
   "source": [
    "class Rational:\n",
    "    @staticmethod\n",
    "    def gcd(a, b):\n",
    "        while (b != 0):\n",
    "            (a, b) = (b, a % b)\n",
    "        return a\n",
    "    \n",
    "    @staticmethod\n",
    "    def sgn(x):\n",
    "        if x>0:\n",
    "            return 1\n",
    "        elif x<0:\n",
    "            return -1\n",
    "        else:\n",
    "            return 0\n",
    "    \n",
    "    def __init__(self, n, d):\n",
    "        if n == 0:\n",
    "            self.num = 0\n",
    "            self.den = 1\n",
    "        else:\n",
    "            z = self.sgn(n) * self.sgn(d)\n",
    "            n = abs(n)\n",
    "            d = abs(d)\n",
    "            k = self.gcd(n, d)\n",
    "            self.num = z * n//k\n",
    "            self.den = d//k\n",
    "    \n",
    "    def __str__(self):\n",
    "        if self.num == 0:\n",
    "            return \"0\"\n",
    "        else:\n",
    "            return str(self.num) + \"/\" + str(self.den)\n",
    "    \n",
    "    def __add__(self, o):\n",
    "        n1 = self.num\n",
    "        d1 = self.den\n",
    "        if type(o) == int:\n",
    "            n2 = o\n",
    "            d2 = 1\n",
    "        else:\n",
    "            n2 = o.num\n",
    "            d2 = o.den\n",
    "        n = n1 * d2 * d1\n",
    "        d = d1 * d2\n",
    "        return Rational(n, d)\n",
    "    \n",
    "    def __radd__(self, o):\n",
    "        n1 = self.num\n",
    "        d1 = self.den\n",
    "        if type(o) == int:\n",
    "            n2 = o\n",
    "            d2 = 1\n",
    "        else:\n",
    "            n2 = o.num\n",
    "            d2 = o.den\n",
    "        n = n1 * d2 + n2 * d1\n",
    "        d = d1 * d2\n",
    "        return Rational(n, d)\n",
    "    \n",
    "    def __sub__(self, o):\n",
    "        n1 = self.num\n",
    "        d1 = self.den\n",
    "        n2 = o.num\n",
    "        d2 = o.den\n",
    "        n = n1 * d2 - n2 * d1\n",
    "        d = d1 * d2\n",
    "        return Rational(n, d)\n",
    "    \n",
    "    def __mul__(self, o):\n",
    "        n1 = self.num\n",
    "        d1 = self.den\n",
    "        n2 = o.num\n",
    "        d2 = o.den\n",
    "        n = n1 * n2\n",
    "        d = d1 * d2\n",
    "        return Rational(n, d)\n",
    "    \n",
    "    def __floordiv__(self, o):\n",
    "        n1 = self.num\n",
    "        d1 = self.den\n",
    "        n2 = o.num\n",
    "        d2 = o.den\n",
    "        n = n1 * d2\n",
    "        d = d1 * n2\n",
    "        return Rational(n, d)\n",
    "\n",
    "d1 = Rational(1, 2)\n",
    "d2 = Rational(1, 3)\n",
    "d3 = d1 + d2\n",
    "print(d3)\n",
    "d4 = d1 - d2\n",
    "print(d4)\n",
    "d5 = d1 * d2\n",
    "print(d5)\n",
    "d6 = d1 // d2\n",
    "print(d6)\n",
    "d7 = 6 + d1\n",
    "print(d7)"
   ]
  },
  {
   "cell_type": "markdown",
   "id": "4831780a",
   "metadata": {},
   "source": [
    "## Задание\n",
    "***Задача:*** Создайте класс по работе с тригонометрическими функциями. В классе должны быть реализованы функции вычисления:\n",
    "\n",
    "* косинуса\n",
    "* синуса\n",
    "* тангенса\n",
    "* арксинуса\n",
    "* арккосинуса\n",
    "* арктангенса\n",
    "* перевода из градусов в радианы\n",
    "\n",
    "***Решение:***"
   ]
  },
  {
   "cell_type": "code",
   "execution_count": 6,
   "id": "25d400b3",
   "metadata": {
    "scrolled": true
   },
   "outputs": [
    {
     "name": "stdout",
     "output_type": "stream",
     "text": [
      "cos\n",
      "0.5000000000000001\n",
      "sin\n",
      "0.8660254037844386\n",
      "tan\n",
      "1.7320508075688767\n",
      "asin\n",
      "1.0471975511965976\n",
      "acos\n",
      "1.0471975511965979\n",
      "atan\n",
      "1.0471975511965976\n",
      "to radians\n",
      "1.0471975511965976\n"
     ]
    }
   ],
   "source": [
    "import math\n",
    "class Trigonometry:\n",
    "    import math\n",
    "\n",
    "    @staticmethod\n",
    "    def cos(x):\n",
    "        return math.cos(x)\n",
    "\n",
    "    @staticmethod\n",
    "    def sin(x):\n",
    "        return math.sin(x)\n",
    "\n",
    "    @staticmethod\n",
    "    def tan(x):\n",
    "        return math.tan(x)\n",
    "\n",
    "    @staticmethod\n",
    "    def asin(x):\n",
    "        return math.asin(x)\n",
    "\n",
    "    @staticmethod\n",
    "    def acos(x):\n",
    "        return math.acos(x)\n",
    "\n",
    "    @staticmethod\n",
    "    def atan(x):\n",
    "        return math.atan(x)\n",
    "\n",
    "    @staticmethod\n",
    "    def to_radians(degrees):\n",
    "        return math.radians(degrees)\n",
    "print(\"cos\")\n",
    "print(Trigonometry.cos(math.pi/3))\n",
    "\n",
    "print(\"sin\")\n",
    "print(Trigonometry.sin(math.pi/3))\n",
    "\n",
    "print(\"tan\")\n",
    "print(Trigonometry.tan(math.pi/3))\n",
    "\n",
    "print(\"asin\")\n",
    "print(Trigonometry.asin(math.sqrt(3)/2))\n",
    "\n",
    "print(\"acos\")\n",
    "print(Trigonometry.acos(1/2))\n",
    "\n",
    "print(\"atan\")\n",
    "print(Trigonometry.atan(math.sqrt(3)))\n",
    "\n",
    "print(\"to radians\")\n",
    "print(Trigonometry.to_radians(60))"
   ]
  },
  {
   "cell_type": "markdown",
   "id": "68565622",
   "metadata": {},
   "source": [
    "## 1.2.1 Пример\n",
    "***Задача:*** Определите класс бинарного дерева и задайте его объекты с отдельным атрибутом для каждого из потомков.\n",
    "\n",
    "***Решение:***"
   ]
  },
  {
   "cell_type": "code",
   "execution_count": 7,
   "id": "7c2f5673",
   "metadata": {},
   "outputs": [
    {
     "data": {
      "text/plain": [
       "'c'"
      ]
     },
     "execution_count": 7,
     "metadata": {},
     "output_type": "execute_result"
    }
   ],
   "source": [
    "class Tree:\n",
    "    def __init__(self, left, right):\n",
    "        self.left = left\n",
    "        self.right = right\n",
    "\n",
    "t = Tree(Tree(\"a\", \"b\"), Tree(\"c\", \"d\"))\n",
    "t.right.left"
   ]
  },
  {
   "cell_type": "markdown",
   "id": "d6ad7efe",
   "metadata": {},
   "source": [
    "## 1.2.2 Пример\n",
    "***Задача:*** Для обозначения отсутствующих потомков можно использовать None (в случае если у узла только один потомок). Само собой, можно\n",
    "комбинировать разные методы (например, использовать списки или множества потомков для каждого узла).\n",
    "\n",
    "Распространенный способ реализации деревьев, особенно на языках, не имеющих встроенной поддержки списков, это так называемое\n",
    "представление «первый потомок, следующий брат». В нем каждый узел имеет два «указателя» или атрибута, указывающих на другие узлы, как в бинарном дереве. Однако, первый из этих атрибутов ссылается на первого потомка узла, а второй — на его следующего брата (т.е. узел, имеющий того же родителя, но находящийся правее, — прим. перев). Иными словами, каждый узел дерева имеет указатель на связанный список его потомков, а каждый из этих потомков ссылается на свой собственный аналогичный список. Таким образом, небольшая модификация бинарного дерева даст нам многопутевое дерево, показанное в листинге ниже. \n",
    "\n",
    "***Решение:***"
   ]
  },
  {
   "cell_type": "code",
   "execution_count": 8,
   "id": "60aac37b",
   "metadata": {},
   "outputs": [
    {
     "data": {
      "text/plain": [
       "'c'"
      ]
     },
     "execution_count": 8,
     "metadata": {},
     "output_type": "execute_result"
    }
   ],
   "source": [
    "class Tree:\n",
    "    def __init__(self, kids, next=None):\n",
    "        self.kids = self.val = kids\n",
    "        self.next = next\n",
    "t = Tree(Tree(\"a\", Tree(\"b\", Tree(\"c\", Tree(\"d\")))))\n",
    "t.kids.next.next.val"
   ]
  },
  {
   "cell_type": "markdown",
   "id": "62edc885",
   "metadata": {},
   "source": [
    "## Задание\n",
    "***Задача:*** Представьте дерево показанное на рисунке с использованием списка из списков. Выведите на печать корень дерева, а также его левое и правое поддеревья.\n",
    "\n",
    "***Решение:***"
   ]
  },
  {
   "cell_type": "code",
   "execution_count": 40,
   "id": "ae52aae9",
   "metadata": {},
   "outputs": [
    {
     "name": "stdout",
     "output_type": "stream",
     "text": [
      "a\n",
      "b\n",
      "c\n"
     ]
    }
   ],
   "source": [
    "T =[\"a\", [\"b\", [\"d\", \"e\"]], [\"c\", [\"f\"]]]\n",
    "\n",
    "print(T[0])\n",
    "print(T[1][0][0])\n",
    "print(T[2][0][0])"
   ]
  },
  {
   "cell_type": "markdown",
   "id": "c69aad89",
   "metadata": {},
   "source": [
    "## Задание\n",
    "***Задача:*** Дан класс, описывающий бинарное дерево.\n",
    "```\n",
    "class Tree:\n",
    "    def __init__(self, data):\n",
    "        self.left = None\n",
    "        self.right = None\n",
    "        self.data = data\n",
    "    def PrintTree(self):\n",
    "        print(self.data)\n",
    "```\n",
    "Реализуйте в классе функцию для вставки нового элемента в дерево по\n",
    "следующим правилам:\n",
    "* Левое поддерево узла содержит только узлы со значениями меньше,\n",
    "чем значение в узле.\n",
    "* Правое поддерево узла содержит только узлы со значениями меньше,\n",
    "чем значение в узле.\n",
    "* Каждое из левого и правого поддеревьев также должно быть\n",
    "бинарным деревом поиска.\n",
    "* Не должно быть повторяющихся узлов.\n",
    "Метод вставки сравнивает значение узла с родительским узлом и решает\n",
    "куда доваить элемент (в левое или правое поддерево). Перепишите, метод\n",
    "PrintTree для печати полной версии дерева.\n",
    "\n",
    "***Решение:***"
   ]
  },
  {
   "cell_type": "code",
   "execution_count": 16,
   "id": "4c0c16b0",
   "metadata": {},
   "outputs": [
    {
     "name": "stdout",
     "output_type": "stream",
     "text": [
      "         1\n",
      "     2\n",
      "         4\n",
      " 5\n",
      "         6\n",
      "     7\n",
      "         8\n"
     ]
    }
   ],
   "source": [
    "class Tree: \n",
    "    def __init__(self, data): \n",
    "        self.left = None \n",
    "        self.right = None \n",
    "        self.data = data \n",
    "    \n",
    "    def insert(self, data):\n",
    "        if data < self.data:\n",
    "            if self.left is None:\n",
    "                self.left = Tree(data)\n",
    "            else:\n",
    "                self.left.insert(data)\n",
    "        elif data > self.data:\n",
    "            if self.right is None:\n",
    "                self.right = Tree(data)\n",
    "            else:\n",
    "                self.right.insert(data)\n",
    "    \n",
    "    def printTree(self, level=0):\n",
    "        if self.left:\n",
    "            self.left.printTree(level+1)\n",
    "        print('    '*level, self.data)\n",
    "        if self.right:\n",
    "            self.right.printTree(level+1)\n",
    "\n",
    "tree = Tree(5)\n",
    "tree.insert(2)\n",
    "tree.insert(7)\n",
    "tree.insert(1)\n",
    "tree.insert(4)\n",
    "tree.insert(6)\n",
    "tree.insert(8)\n",
    "\n",
    "tree.printTree()"
   ]
  },
  {
   "cell_type": "markdown",
   "id": "aa5512d1",
   "metadata": {},
   "source": [
    "## 1.3.1 Пример\n",
    "***Задача:***  Построим дерево решений для задачи классификации, для этого, построим границу решения для каждого класса. В качестве данных будем использовать уже знакомый нам и встроенный в библиотеку sklearn набор данных ирисов Фишера. Импортируем библиотеки, набор данных и посмотрим его характеристики.\n",
    "\n",
    "***Решение:***"
   ]
  },
  {
   "cell_type": "code",
   "execution_count": 21,
   "id": "1886d455",
   "metadata": {},
   "outputs": [
    {
     "data": {
      "text/html": [
       "<div>\n",
       "<style scoped>\n",
       "    .dataframe tbody tr th:only-of-type {\n",
       "        vertical-align: middle;\n",
       "    }\n",
       "\n",
       "    .dataframe tbody tr th {\n",
       "        vertical-align: top;\n",
       "    }\n",
       "\n",
       "    .dataframe thead th {\n",
       "        text-align: right;\n",
       "    }\n",
       "</style>\n",
       "<table border=\"1\" class=\"dataframe\">\n",
       "  <thead>\n",
       "    <tr style=\"text-align: right;\">\n",
       "      <th></th>\n",
       "      <th>sepal_length</th>\n",
       "      <th>sepal_width</th>\n",
       "      <th>petal_length</th>\n",
       "      <th>petal_width</th>\n",
       "      <th>species</th>\n",
       "    </tr>\n",
       "  </thead>\n",
       "  <tbody>\n",
       "    <tr>\n",
       "      <th>0</th>\n",
       "      <td>5.1</td>\n",
       "      <td>3.5</td>\n",
       "      <td>1.4</td>\n",
       "      <td>0.2</td>\n",
       "      <td>setosa</td>\n",
       "    </tr>\n",
       "    <tr>\n",
       "      <th>1</th>\n",
       "      <td>4.9</td>\n",
       "      <td>3.0</td>\n",
       "      <td>1.4</td>\n",
       "      <td>0.2</td>\n",
       "      <td>setosa</td>\n",
       "    </tr>\n",
       "    <tr>\n",
       "      <th>2</th>\n",
       "      <td>4.7</td>\n",
       "      <td>3.2</td>\n",
       "      <td>1.3</td>\n",
       "      <td>0.2</td>\n",
       "      <td>setosa</td>\n",
       "    </tr>\n",
       "    <tr>\n",
       "      <th>3</th>\n",
       "      <td>4.6</td>\n",
       "      <td>3.1</td>\n",
       "      <td>1.5</td>\n",
       "      <td>0.2</td>\n",
       "      <td>setosa</td>\n",
       "    </tr>\n",
       "    <tr>\n",
       "      <th>4</th>\n",
       "      <td>5.0</td>\n",
       "      <td>3.6</td>\n",
       "      <td>1.4</td>\n",
       "      <td>0.2</td>\n",
       "      <td>setosa</td>\n",
       "    </tr>\n",
       "    <tr>\n",
       "      <th>...</th>\n",
       "      <td>...</td>\n",
       "      <td>...</td>\n",
       "      <td>...</td>\n",
       "      <td>...</td>\n",
       "      <td>...</td>\n",
       "    </tr>\n",
       "    <tr>\n",
       "      <th>145</th>\n",
       "      <td>6.7</td>\n",
       "      <td>3.0</td>\n",
       "      <td>5.2</td>\n",
       "      <td>2.3</td>\n",
       "      <td>virginica</td>\n",
       "    </tr>\n",
       "    <tr>\n",
       "      <th>146</th>\n",
       "      <td>6.3</td>\n",
       "      <td>2.5</td>\n",
       "      <td>5.0</td>\n",
       "      <td>1.9</td>\n",
       "      <td>virginica</td>\n",
       "    </tr>\n",
       "    <tr>\n",
       "      <th>147</th>\n",
       "      <td>6.5</td>\n",
       "      <td>3.0</td>\n",
       "      <td>5.2</td>\n",
       "      <td>2.0</td>\n",
       "      <td>virginica</td>\n",
       "    </tr>\n",
       "    <tr>\n",
       "      <th>148</th>\n",
       "      <td>6.2</td>\n",
       "      <td>3.4</td>\n",
       "      <td>5.4</td>\n",
       "      <td>2.3</td>\n",
       "      <td>virginica</td>\n",
       "    </tr>\n",
       "    <tr>\n",
       "      <th>149</th>\n",
       "      <td>5.9</td>\n",
       "      <td>3.0</td>\n",
       "      <td>5.1</td>\n",
       "      <td>1.8</td>\n",
       "      <td>virginica</td>\n",
       "    </tr>\n",
       "  </tbody>\n",
       "</table>\n",
       "<p>150 rows × 5 columns</p>\n",
       "</div>"
      ],
      "text/plain": [
       "     sepal_length  sepal_width  petal_length  petal_width    species\n",
       "0             5.1          3.5           1.4          0.2     setosa\n",
       "1             4.9          3.0           1.4          0.2     setosa\n",
       "2             4.7          3.2           1.3          0.2     setosa\n",
       "3             4.6          3.1           1.5          0.2     setosa\n",
       "4             5.0          3.6           1.4          0.2     setosa\n",
       "..            ...          ...           ...          ...        ...\n",
       "145           6.7          3.0           5.2          2.3  virginica\n",
       "146           6.3          2.5           5.0          1.9  virginica\n",
       "147           6.5          3.0           5.2          2.0  virginica\n",
       "148           6.2          3.4           5.4          2.3  virginica\n",
       "149           5.9          3.0           5.1          1.8  virginica\n",
       "\n",
       "[150 rows x 5 columns]"
      ]
     },
     "execution_count": 21,
     "metadata": {},
     "output_type": "execute_result"
    }
   ],
   "source": [
    "import pandas as pd\n",
    "import numpy as np\n",
    "import seaborn as sns\n",
    "import matplotlib.pyplot as plt\n",
    "\n",
    "dataset = sns.load_dataset('iris')\n",
    "dataset\n"
   ]
  },
  {
   "cell_type": "code",
   "execution_count": 22,
   "id": "1210ae85",
   "metadata": {},
   "outputs": [
    {
     "data": {
      "text/plain": [
       "(150, 5)"
      ]
     },
     "execution_count": 22,
     "metadata": {},
     "output_type": "execute_result"
    }
   ],
   "source": [
    "dataset.shape"
   ]
  },
  {
   "cell_type": "code",
   "execution_count": 23,
   "id": "87a613c4",
   "metadata": {},
   "outputs": [
    {
     "data": {
      "text/html": [
       "<div>\n",
       "<style scoped>\n",
       "    .dataframe tbody tr th:only-of-type {\n",
       "        vertical-align: middle;\n",
       "    }\n",
       "\n",
       "    .dataframe tbody tr th {\n",
       "        vertical-align: top;\n",
       "    }\n",
       "\n",
       "    .dataframe thead th {\n",
       "        text-align: right;\n",
       "    }\n",
       "</style>\n",
       "<table border=\"1\" class=\"dataframe\">\n",
       "  <thead>\n",
       "    <tr style=\"text-align: right;\">\n",
       "      <th></th>\n",
       "      <th>sepal_length</th>\n",
       "      <th>sepal_width</th>\n",
       "      <th>petal_length</th>\n",
       "      <th>petal_width</th>\n",
       "      <th>species</th>\n",
       "    </tr>\n",
       "  </thead>\n",
       "  <tbody>\n",
       "    <tr>\n",
       "      <th>0</th>\n",
       "      <td>5.1</td>\n",
       "      <td>3.5</td>\n",
       "      <td>1.4</td>\n",
       "      <td>0.2</td>\n",
       "      <td>setosa</td>\n",
       "    </tr>\n",
       "    <tr>\n",
       "      <th>1</th>\n",
       "      <td>4.9</td>\n",
       "      <td>3.0</td>\n",
       "      <td>1.4</td>\n",
       "      <td>0.2</td>\n",
       "      <td>setosa</td>\n",
       "    </tr>\n",
       "    <tr>\n",
       "      <th>2</th>\n",
       "      <td>4.7</td>\n",
       "      <td>3.2</td>\n",
       "      <td>1.3</td>\n",
       "      <td>0.2</td>\n",
       "      <td>setosa</td>\n",
       "    </tr>\n",
       "    <tr>\n",
       "      <th>3</th>\n",
       "      <td>4.6</td>\n",
       "      <td>3.1</td>\n",
       "      <td>1.5</td>\n",
       "      <td>0.2</td>\n",
       "      <td>setosa</td>\n",
       "    </tr>\n",
       "    <tr>\n",
       "      <th>4</th>\n",
       "      <td>5.0</td>\n",
       "      <td>3.6</td>\n",
       "      <td>1.4</td>\n",
       "      <td>0.2</td>\n",
       "      <td>setosa</td>\n",
       "    </tr>\n",
       "  </tbody>\n",
       "</table>\n",
       "</div>"
      ],
      "text/plain": [
       "   sepal_length  sepal_width  petal_length  petal_width species\n",
       "0           5.1          3.5           1.4          0.2  setosa\n",
       "1           4.9          3.0           1.4          0.2  setosa\n",
       "2           4.7          3.2           1.3          0.2  setosa\n",
       "3           4.6          3.1           1.5          0.2  setosa\n",
       "4           5.0          3.6           1.4          0.2  setosa"
      ]
     },
     "execution_count": 23,
     "metadata": {},
     "output_type": "execute_result"
    }
   ],
   "source": [
    "dataset.head()"
   ]
  },
  {
   "cell_type": "code",
   "execution_count": 24,
   "id": "27f61922",
   "metadata": {},
   "outputs": [
    {
     "name": "stdout",
     "output_type": "stream",
     "text": [
      "(120, 4)\n",
      "(120,)\n",
      "(30, 4)\n",
      "(30,)\n",
      "['virginica' 'virginica' 'setosa' 'versicolor' 'setosa' 'setosa' 'setosa'\n",
      " 'setosa' 'setosa' 'versicolor' 'setosa' 'virginica' 'versicolor' 'setosa'\n",
      " 'versicolor' 'virginica' 'virginica' 'versicolor' 'setosa' 'virginica'\n",
      " 'virginica' 'virginica' 'virginica' 'setosa' 'setosa' 'versicolor'\n",
      " 'versicolor' 'virginica' 'setosa' 'setosa']\n",
      "[[13  0  0]\n",
      " [ 0  6  0]\n",
      " [ 0  1 10]]\n",
      "              precision    recall  f1-score   support\n",
      "\n",
      "      setosa       1.00      1.00      1.00        13\n",
      "  versicolor       0.86      1.00      0.92         6\n",
      "   virginica       1.00      0.91      0.95        11\n",
      "\n",
      "    accuracy                           0.97        30\n",
      "   macro avg       0.95      0.97      0.96        30\n",
      "weighted avg       0.97      0.97      0.97        30\n",
      "\n"
     ]
    },
    {
     "data": {
      "image/png": "[encoded data removed]",
      "text/plain": [
       "<Figure size 640x480 with 1 Axes>"
      ]
     },
     "metadata": {},
     "output_type": "display_data"
    }
   ],
   "source": [
    "from sklearn.model_selection import train_test_split\n",
    "\n",
    "X_train, X_test, y_train, y_test = train_test_split (\n",
    "    dataset.iloc[:, :-1],\n",
    "    dataset.iloc[:, -1],\n",
    "    test_size = 0.20\n",
    ")\n",
    "print(X_train.shape)\n",
    "print(y_train.shape)\n",
    "print(X_test.shape)\n",
    "print(y_test.shape)\n",
    "\n",
    "from sklearn.tree import DecisionTreeClassifier\n",
    "\n",
    "classifier = DecisionTreeClassifier()\n",
    "classifier.fit(X_train, y_train)\n",
    "\n",
    "from sklearn import tree\n",
    "tree.plot_tree(classifier)\n",
    "\n",
    "y_pred = classifier.predict(X_test)\n",
    "print(y_pred)\n",
    "\n",
    "from sklearn.metrics import classification_report, confusion_matrix\n",
    "print(confusion_matrix(y_test, y_pred))\n",
    "print(classification_report(y_test, y_pred))"
   ]
  },
  {
   "cell_type": "markdown",
   "id": "a91ecfc9",
   "metadata": {},
   "source": [
    "## Задание\n",
    "***Задача:***  Постройте классификатор на основе дерева принятия решений следующего датасета:\n",
    "```\n",
    "X = np.array([[-1, 1], [-2, -1], [-3, -2], [1, 1], [2, 1], [3, 2]])\n",
    "target = [0, 0, 0, 1, 1, 1]\n",
    "```\n",
    "***Решение:***"
   ]
  },
  {
   "cell_type": "code",
   "execution_count": 26,
   "id": "82ec7ac9",
   "metadata": {},
   "outputs": [
    {
     "data": {
      "text/plain": [
       "array([0, 1])"
      ]
     },
     "execution_count": 26,
     "metadata": {},
     "output_type": "execute_result"
    },
    {
     "data": {
      "image/png": "[encoded data removed]",
      "text/plain": [
       "<Figure size 640x480 with 1 Axes>"
      ]
     },
     "metadata": {},
     "output_type": "display_data"
    }
   ],
   "source": [
    "from sklearn.tree import DecisionTreeClassifier\n",
    "\n",
    "X = np.array([[-1, 1], [-2, -1], [-3, -2], [1, 1], [2, 1], [3, 2]])\n",
    "y = [0, 0, 0, 1, 1, 1]\n",
    "\n",
    "clf = DecisionTreeClassifier()\n",
    "clf.fit(X, y)\n",
    "\n",
    "X_new = np.array([[0, 0], [4, 4]])\n",
    "y_pred = clf.predict(X_new)\n",
    "tree.plot_tree(clf)\n",
    "y_pred"
   ]
  },
  {
   "cell_type": "markdown",
   "id": "b9bda39e",
   "metadata": {},
   "source": [
    "## 1.4.1 Пример\n",
    "***Задача:***  Постойте регрессию с использованием дерева решений, реализованного в Python.\n",
    "\n",
    "***Решение:***"
   ]
  },
  {
   "cell_type": "code",
   "execution_count": 29,
   "id": "9cca9f25",
   "metadata": {},
   "outputs": [
    {
     "data": {
      "text/html": [
       "<div>\n",
       "<style scoped>\n",
       "    .dataframe tbody tr th:only-of-type {\n",
       "        vertical-align: middle;\n",
       "    }\n",
       "\n",
       "    .dataframe tbody tr th {\n",
       "        vertical-align: top;\n",
       "    }\n",
       "\n",
       "    .dataframe thead th {\n",
       "        text-align: right;\n",
       "    }\n",
       "</style>\n",
       "<table border=\"1\" class=\"dataframe\">\n",
       "  <thead>\n",
       "    <tr style=\"text-align: right;\">\n",
       "      <th></th>\n",
       "      <th>YearsExperience</th>\n",
       "      <th>Salary</th>\n",
       "    </tr>\n",
       "  </thead>\n",
       "  <tbody>\n",
       "    <tr>\n",
       "      <th>0</th>\n",
       "      <td>1.1</td>\n",
       "      <td>39343.0</td>\n",
       "    </tr>\n",
       "    <tr>\n",
       "      <th>1</th>\n",
       "      <td>1.3</td>\n",
       "      <td>46205.0</td>\n",
       "    </tr>\n",
       "    <tr>\n",
       "      <th>2</th>\n",
       "      <td>1.5</td>\n",
       "      <td>37731.0</td>\n",
       "    </tr>\n",
       "    <tr>\n",
       "      <th>3</th>\n",
       "      <td>2.0</td>\n",
       "      <td>43525.0</td>\n",
       "    </tr>\n",
       "    <tr>\n",
       "      <th>4</th>\n",
       "      <td>2.2</td>\n",
       "      <td>39891.0</td>\n",
       "    </tr>\n",
       "  </tbody>\n",
       "</table>\n",
       "</div>"
      ],
      "text/plain": [
       "   YearsExperience   Salary\n",
       "0              1.1  39343.0\n",
       "1              1.3  46205.0\n",
       "2              1.5  37731.0\n",
       "3              2.0  43525.0\n",
       "4              2.2  39891.0"
      ]
     },
     "execution_count": 29,
     "metadata": {},
     "output_type": "execute_result"
    }
   ],
   "source": [
    "import pandas as pd\n",
    "import numpy as np\n",
    "import matplotlib.pyplot as plt\n",
    "\n",
    "url = \"https://raw.githubusercontent.com/AnnaShestova/salary-years-simple-linear-regression/master/Salary_Data.csv\"\n",
    "dataset = pd.read_csv(url)\n",
    "dataset.head()"
   ]
  },
  {
   "cell_type": "code",
   "execution_count": 30,
   "id": "cc35b5bf",
   "metadata": {},
   "outputs": [
    {
     "name": "stdout",
     "output_type": "stream",
     "text": [
      "(30, 2)\n"
     ]
    },
    {
     "data": {
      "text/html": [
       "<div>\n",
       "<style scoped>\n",
       "    .dataframe tbody tr th:only-of-type {\n",
       "        vertical-align: middle;\n",
       "    }\n",
       "\n",
       "    .dataframe tbody tr th {\n",
       "        vertical-align: top;\n",
       "    }\n",
       "\n",
       "    .dataframe thead th {\n",
       "        text-align: right;\n",
       "    }\n",
       "</style>\n",
       "<table border=\"1\" class=\"dataframe\">\n",
       "  <thead>\n",
       "    <tr style=\"text-align: right;\">\n",
       "      <th></th>\n",
       "      <th>YearsExperience</th>\n",
       "      <th>Salary</th>\n",
       "    </tr>\n",
       "  </thead>\n",
       "  <tbody>\n",
       "    <tr>\n",
       "      <th>count</th>\n",
       "      <td>30.000000</td>\n",
       "      <td>30.000000</td>\n",
       "    </tr>\n",
       "    <tr>\n",
       "      <th>mean</th>\n",
       "      <td>5.313333</td>\n",
       "      <td>76003.000000</td>\n",
       "    </tr>\n",
       "    <tr>\n",
       "      <th>std</th>\n",
       "      <td>2.837888</td>\n",
       "      <td>27414.429785</td>\n",
       "    </tr>\n",
       "    <tr>\n",
       "      <th>min</th>\n",
       "      <td>1.100000</td>\n",
       "      <td>37731.000000</td>\n",
       "    </tr>\n",
       "    <tr>\n",
       "      <th>25%</th>\n",
       "      <td>3.200000</td>\n",
       "      <td>56720.750000</td>\n",
       "    </tr>\n",
       "    <tr>\n",
       "      <th>50%</th>\n",
       "      <td>4.700000</td>\n",
       "      <td>65237.000000</td>\n",
       "    </tr>\n",
       "    <tr>\n",
       "      <th>75%</th>\n",
       "      <td>7.700000</td>\n",
       "      <td>100544.750000</td>\n",
       "    </tr>\n",
       "    <tr>\n",
       "      <th>max</th>\n",
       "      <td>10.500000</td>\n",
       "      <td>122391.000000</td>\n",
       "    </tr>\n",
       "  </tbody>\n",
       "</table>\n",
       "</div>"
      ],
      "text/plain": [
       "       YearsExperience         Salary\n",
       "count        30.000000      30.000000\n",
       "mean          5.313333   76003.000000\n",
       "std           2.837888   27414.429785\n",
       "min           1.100000   37731.000000\n",
       "25%           3.200000   56720.750000\n",
       "50%           4.700000   65237.000000\n",
       "75%           7.700000  100544.750000\n",
       "max          10.500000  122391.000000"
      ]
     },
     "execution_count": 30,
     "metadata": {},
     "output_type": "execute_result"
    }
   ],
   "source": [
    "print(dataset.shape)\n",
    "dataset.describe()"
   ]
  },
  {
   "cell_type": "code",
   "execution_count": 31,
   "id": "2705cd7f",
   "metadata": {},
   "outputs": [
    {
     "data": {
      "image/png": "[encoded data removed]",
      "text/plain": [
       "<Figure size 640x480 with 1 Axes>"
      ]
     },
     "metadata": {},
     "output_type": "display_data"
    }
   ],
   "source": [
    "plt.scatter (dataset['YearsExperience'], dataset['Salary'], color = 'b', label = 'Заработная плата')\n",
    "plt.xlabel(\"Опыт(лет)\")\n",
    "plt.ylabel(\"Заработная плата\")\n",
    "plt.show()\n"
   ]
  },
  {
   "cell_type": "code",
   "execution_count": 32,
   "id": "74811b2f",
   "metadata": {},
   "outputs": [
    {
     "name": "stdout",
     "output_type": "stream",
     "text": [
      "[[ 1.1]\n",
      " [ 1.3]\n",
      " [ 1.5]\n",
      " [ 2. ]\n",
      " [ 2.2]\n",
      " [ 2.9]\n",
      " [ 3. ]\n",
      " [ 3.2]\n",
      " [ 3.2]\n",
      " [ 3.7]\n",
      " [ 3.9]\n",
      " [ 4. ]\n",
      " [ 4. ]\n",
      " [ 4.1]\n",
      " [ 4.5]\n",
      " [ 4.9]\n",
      " [ 5.1]\n",
      " [ 5.3]\n",
      " [ 5.9]\n",
      " [ 6. ]\n",
      " [ 6.8]\n",
      " [ 7.1]\n",
      " [ 7.9]\n",
      " [ 8.2]\n",
      " [ 8.7]\n",
      " [ 9. ]\n",
      " [ 9.5]\n",
      " [ 9.6]\n",
      " [10.3]\n",
      " [10.5]]\n",
      "[ 39343.  46205.  37731.  43525.  39891.  56642.  60150.  54445.  64445.\n",
      "  57189.  63218.  55794.  56957.  57081.  61111.  67938.  66029.  83088.\n",
      "  81363.  93940.  91738.  98273. 101302. 113812. 109431. 105582. 116969.\n",
      " 112635. 122391. 121872.]\n"
     ]
    }
   ],
   "source": [
    "from sklearn.tree import DecisionTreeRegressor\n",
    "\n",
    "X = dataset.iloc[:, :-1].values\n",
    "y = dataset.iloc[:, 1].values\n",
    "print(X)\n",
    "print(y)"
   ]
  },
  {
   "cell_type": "code",
   "execution_count": 36,
   "id": "31277b5c",
   "metadata": {},
   "outputs": [
    {
     "data": {
      "text/plain": [
       "DecisionTreeRegressor()"
      ]
     },
     "execution_count": 36,
     "metadata": {},
     "output_type": "execute_result"
    }
   ],
   "source": [
    "\n",
    "X_train, X_test, y_train, y_test = train_test_split(X, y, test_size = 0.2, random_state = 0)\n",
    "\n",
    "regressor = DecisionTreeRegressor()\n",
    "regressor.fit(X_train, y_train)"
   ]
  },
  {
   "cell_type": "code",
   "execution_count": 37,
   "id": "a21137c5",
   "metadata": {},
   "outputs": [
    {
     "data": {
      "text/plain": [
       "[Text(0.4956896551724138, 0.9375, 'X[0] <= 5.2\\nsquared_error = 614737637.832\\nsamples = 24\\nvalue = 73886.208'),\n",
       " Text(0.20689655172413793, 0.8125, 'X[0] <= 2.55\\nsquared_error = 81200345.857\\nsamples = 14\\nvalue = 54976.0'),\n",
       " Text(0.06896551724137931, 0.6875, 'X[0] <= 1.2\\nsquared_error = 7820714.0\\nsamples = 4\\nvalue = 42241.0'),\n",
       " Text(0.034482758620689655, 0.5625, 'squared_error = 0.0\\nsamples = 1\\nvalue = 39343.0'),\n",
       " Text(0.10344827586206896, 0.5625, 'X[0] <= 2.1\\nsquared_error = 6694994.667\\nsamples = 3\\nvalue = 43207.0'),\n",
       " Text(0.06896551724137931, 0.4375, 'X[0] <= 1.65\\nsquared_error = 1795600.0\\nsamples = 2\\nvalue = 44865.0'),\n",
       " Text(0.034482758620689655, 0.3125, 'squared_error = 0.0\\nsamples = 1\\nvalue = 46205.0'),\n",
       " Text(0.10344827586206896, 0.3125, 'squared_error = 0.0\\nsamples = 1\\nvalue = 43525.0'),\n",
       " Text(0.13793103448275862, 0.4375, 'squared_error = 0.0\\nsamples = 1\\nvalue = 39891.0'),\n",
       " Text(0.3448275862068966, 0.6875, 'X[0] <= 4.7\\nsquared_error = 19731272.6\\nsamples = 10\\nvalue = 60070.0'),\n",
       " Text(0.27586206896551724, 0.5625, 'X[0] <= 4.25\\nsquared_error = 9499922.484\\nsamples = 8\\nvalue = 58341.625'),\n",
       " Text(0.2413793103448276, 0.4375, 'X[0] <= 3.45\\nsquared_error = 9604901.143\\nsamples = 7\\nvalue = 57946.0'),\n",
       " Text(0.1724137931034483, 0.3125, 'X[0] <= 2.95\\nsquared_error = 14313358.25\\nsamples = 4\\nvalue = 58920.5'),\n",
       " Text(0.13793103448275862, 0.1875, 'squared_error = 0.0\\nsamples = 1\\nvalue = 56642.0'),\n",
       " Text(0.20689655172413793, 0.1875, 'X[0] <= 3.1\\nsquared_error = 16777116.667\\nsamples = 3\\nvalue = 59680.0'),\n",
       " Text(0.1724137931034483, 0.0625, 'squared_error = 0.0\\nsamples = 1\\nvalue = 60150.0'),\n",
       " Text(0.2413793103448276, 0.0625, 'squared_error = 25000000.0\\nsamples = 2\\nvalue = 59445.0'),\n",
       " Text(0.3103448275862069, 0.3125, 'X[0] <= 3.85\\nsquared_error = 372490.889\\nsamples = 3\\nvalue = 56646.667'),\n",
       " Text(0.27586206896551724, 0.1875, 'squared_error = 0.0\\nsamples = 1\\nvalue = 57189.0'),\n",
       " Text(0.3448275862068966, 0.1875, 'squared_error = 338142.25\\nsamples = 2\\nvalue = 56375.5'),\n",
       " Text(0.3103448275862069, 0.4375, 'squared_error = 0.0\\nsamples = 1\\nvalue = 61111.0'),\n",
       " Text(0.41379310344827586, 0.5625, 'X[0] <= 5.0\\nsquared_error = 911070.25\\nsamples = 2\\nvalue = 66983.5'),\n",
       " Text(0.3793103448275862, 0.4375, 'squared_error = 0.0\\nsamples = 1\\nvalue = 67938.0'),\n",
       " Text(0.4482758620689655, 0.4375, 'squared_error = 0.0\\nsamples = 1\\nvalue = 66029.0'),\n",
       " Text(0.7844827586206896, 0.8125, 'X[0] <= 8.05\\nsquared_error = 160167356.45\\nsamples = 10\\nvalue = 100360.5'),\n",
       " Text(0.6379310344827587, 0.6875, 'X[0] <= 5.95\\nsquared_error = 53566814.556\\nsamples = 6\\nvalue = 91617.333'),\n",
       " Text(0.5517241379310345, 0.5625, 'X[0] <= 5.6\\nsquared_error = 743906.25\\nsamples = 2\\nvalue = 82225.5'),\n",
       " Text(0.5172413793103449, 0.4375, 'squared_error = 0.0\\nsamples = 1\\nvalue = 83088.0'),\n",
       " Text(0.5862068965517241, 0.4375, 'squared_error = 0.0\\nsamples = 1\\nvalue = 81363.0'),\n",
       " Text(0.7241379310344828, 0.5625, 'X[0] <= 6.95\\nsquared_error = 13823368.688\\nsamples = 4\\nvalue = 96313.25'),\n",
       " Text(0.6551724137931034, 0.4375, 'X[0] <= 6.4\\nsquared_error = 1212201.0\\nsamples = 2\\nvalue = 92839.0'),\n",
       " Text(0.6206896551724138, 0.3125, 'squared_error = 0.0\\nsamples = 1\\nvalue = 93940.0'),\n",
       " Text(0.6896551724137931, 0.3125, 'squared_error = 0.0\\nsamples = 1\\nvalue = 91738.0'),\n",
       " Text(0.7931034482758621, 0.4375, 'X[0] <= 7.5\\nsquared_error = 2293710.25\\nsamples = 2\\nvalue = 99787.5'),\n",
       " Text(0.7586206896551724, 0.3125, 'squared_error = 0.0\\nsamples = 1\\nvalue = 98273.0'),\n",
       " Text(0.8275862068965517, 0.3125, 'squared_error = 0.0\\nsamples = 1\\nvalue = 101302.0'),\n",
       " Text(0.9310344827586207, 0.6875, 'X[0] <= 10.05\\nsquared_error = 33407056.688\\nsamples = 4\\nvalue = 113475.25'),\n",
       " Text(0.896551724137931, 0.5625, 'X[0] <= 8.6\\nsquared_error = 13207004.222\\nsamples = 3\\nvalue = 110676.333'),\n",
       " Text(0.8620689655172413, 0.4375, 'squared_error = 0.0\\nsamples = 1\\nvalue = 113812.0'),\n",
       " Text(0.9310344827586207, 0.4375, 'X[0] <= 9.3\\nsquared_error = 12436202.25\\nsamples = 2\\nvalue = 109108.5'),\n",
       " Text(0.896551724137931, 0.3125, 'squared_error = 0.0\\nsamples = 1\\nvalue = 105582.0'),\n",
       " Text(0.9655172413793104, 0.3125, 'squared_error = 0.0\\nsamples = 1\\nvalue = 112635.0'),\n",
       " Text(0.9655172413793104, 0.5625, 'squared_error = 0.0\\nsamples = 1\\nvalue = 121872.0')]"
      ]
     },
     "execution_count": 37,
     "metadata": {},
     "output_type": "execute_result"
    },
    {
     "data": {
      "image/png": "[encoded data removed]",
      "text/plain": [
       "<Figure size 640x480 with 1 Axes>"
      ]
     },
     "metadata": {},
     "output_type": "display_data"
    }
   ],
   "source": [
    "from sklearn import tree\n",
    "tree.plot_tree(regressor)"
   ]
  },
  {
   "cell_type": "code",
   "execution_count": 38,
   "id": "adc8cb7b",
   "metadata": {},
   "outputs": [
    {
     "name": "stdout",
     "output_type": "stream",
     "text": [
      "[ 46205.  121872.   56375.5  56375.5 112635.  105582. ]\n",
      "     Actual  Predicted\n",
      "0   37731.0    46205.0\n",
      "1  122391.0   121872.0\n",
      "2   57081.0    56375.5\n",
      "3   63218.0    56375.5\n",
      "4  116969.0   112635.0\n",
      "5  109431.0   105582.0\n"
     ]
    }
   ],
   "source": [
    "y_pred = regressor.predict(X_test)\n",
    "print(y_pred)\n",
    "\n",
    "df = pd.DataFrame({'Actual': y_test, 'Predicted': y_pred})\n",
    "print(df)"
   ]
  },
  {
   "cell_type": "code",
   "execution_count": 39,
   "id": "9db49bc4",
   "metadata": {},
   "outputs": [
    {
     "name": "stdout",
     "output_type": "stream",
     "text": [
      "Mean Squared Error 25498988.416666668\n",
      "Mean Absolute Error 4120.666666666667\n"
     ]
    },
    {
     "data": {
      "text/plain": [
       "5.421715809463662"
      ]
     },
     "execution_count": 39,
     "metadata": {},
     "output_type": "execute_result"
    }
   ],
   "source": [
    "from sklearn import metrics\n",
    "\n",
    "print('Mean Squared Error', metrics.mean_squared_error(y_test, y_pred))\n",
    "print('Mean Absolute Error', metrics.mean_absolute_error(y_test, y_pred))\n",
    "\n",
    "metrics.mean_absolute_error(y_test, y_pred) / np.average(y) * 100"
   ]
  },
  {
   "cell_type": "markdown",
   "id": "4c2c0a41",
   "metadata": {},
   "source": [
    "## Задание\n",
    "***Задача:*** Постройте модель регрессии для данных из предыдущей рабочей тетради.Для примера можно взять потребления газа (в миллионах галлонов) в 48 штатах США или набор данных о качестве красного вина:\n",
    "\n",
    "https://raw.githubusercontent.com/likarajo/petrol_consumption/master/data/petrol_consumption.csv\n",
    "https://raw.githubusercontent.com/aniruddhachoudhury/Red-Wine-Quality/master/winequality-red.csv\n",
    "\n",
    "Постройте прогноз. Оцените точность модели.\n",
    "***Решение:***"
   ]
  },
  {
   "cell_type": "code",
   "execution_count": 50,
   "id": "f8b30b2f",
   "metadata": {},
   "outputs": [
    {
     "name": "stdout",
     "output_type": "stream",
     "text": [
      "[[ 1.1]\n",
      " [ 1.3]\n",
      " [ 1.5]\n",
      " [ 2. ]\n",
      " [ 2.2]\n",
      " [ 2.9]\n",
      " [ 3. ]\n",
      " [ 3.2]\n",
      " [ 3.2]\n",
      " [ 3.7]\n",
      " [ 3.9]\n",
      " [ 4. ]\n",
      " [ 4. ]\n",
      " [ 4.1]\n",
      " [ 4.5]\n",
      " [ 4.9]\n",
      " [ 5.1]\n",
      " [ 5.3]\n",
      " [ 5.9]\n",
      " [ 6. ]\n",
      " [ 6.8]\n",
      " [ 7.1]\n",
      " [ 7.9]\n",
      " [ 8.2]\n",
      " [ 8.7]\n",
      " [ 9. ]\n",
      " [ 9.5]\n",
      " [ 9.6]\n",
      " [10.3]\n",
      " [10.5]]\n",
      "[ 39343.  46205.  37731.  43525.  39891.  56642.  60150.  54445.  64445.\n",
      "  57189.  63218.  55794.  56957.  57081.  61111.  67938.  66029.  83088.\n",
      "  81363.  93940.  91738.  98273. 101302. 113812. 109431. 105582. 116969.\n",
      " 112635. 122391. 121872.]\n"
     ]
    }
   ],
   "source": [
    "import pandas as pd\n",
    "import numpy as np\n",
    "from sklearn.linear_model import LinearRegression\n",
    "from sklearn.model_selection import train_test_split\n",
    "from sklearn.metrics import mean_squared_error, r2_score\n",
    "from sklearn.tree import DecisionTreeRegressor\n",
    "\n",
    "data = pd.read_csv('https://raw.githubusercontent.com/likarajo/petrol_consumption/master/data/petrol_consumption.csv')\n",
    "X = dataset.iloc[:,:-1].values\n",
    "y = dataset.iloc[:, 1].values\n",
    "print(X)\n",
    "print(y)"
   ]
  },
  {
   "cell_type": "code",
   "execution_count": 51,
   "id": "c7e25603",
   "metadata": {},
   "outputs": [
    {
     "data": {
      "text/plain": [
       "DecisionTreeRegressor()"
      ]
     },
     "execution_count": 51,
     "metadata": {},
     "output_type": "execute_result"
    }
   ],
   "source": [
    "X_train, X_test, y_train, y_test = train_test_split(X, y,test_size = 0.2, random_state=0)\n",
    "regressor = DecisionTreeRegressor()\n",
    "regressor.fit(X_train, y_train)"
   ]
  },
  {
   "cell_type": "code",
   "execution_count": 52,
   "id": "a9f76713",
   "metadata": {},
   "outputs": [
    {
     "data": {
      "text/plain": [
       "array([ 46205. , 121872. ,  56375.5,  56375.5, 112635. , 105582. ])"
      ]
     },
     "execution_count": 52,
     "metadata": {},
     "output_type": "execute_result"
    },
    {
     "data": {
      "image/png": "[encoded data removed]",
      "text/plain": [
       "<Figure size 640x480 with 1 Axes>"
      ]
     },
     "metadata": {},
     "output_type": "display_data"
    }
   ],
   "source": [
    "from sklearn import tree\n",
    "tree.plot_tree(regressor)\n",
    "y_pred = regressor.predict(X_test)\n",
    "y_pred"
   ]
  },
  {
   "cell_type": "code",
   "execution_count": 53,
   "id": "c01e01a9",
   "metadata": {},
   "outputs": [
    {
     "data": {
      "text/html": [
       "<div>\n",
       "<style scoped>\n",
       "    .dataframe tbody tr th:only-of-type {\n",
       "        vertical-align: middle;\n",
       "    }\n",
       "\n",
       "    .dataframe tbody tr th {\n",
       "        vertical-align: top;\n",
       "    }\n",
       "\n",
       "    .dataframe thead th {\n",
       "        text-align: right;\n",
       "    }\n",
       "</style>\n",
       "<table border=\"1\" class=\"dataframe\">\n",
       "  <thead>\n",
       "    <tr style=\"text-align: right;\">\n",
       "      <th></th>\n",
       "      <th>Actual</th>\n",
       "      <th>Predicted</th>\n",
       "    </tr>\n",
       "  </thead>\n",
       "  <tbody>\n",
       "    <tr>\n",
       "      <th>0</th>\n",
       "      <td>37731.0</td>\n",
       "      <td>46205.0</td>\n",
       "    </tr>\n",
       "    <tr>\n",
       "      <th>1</th>\n",
       "      <td>122391.0</td>\n",
       "      <td>121872.0</td>\n",
       "    </tr>\n",
       "    <tr>\n",
       "      <th>2</th>\n",
       "      <td>57081.0</td>\n",
       "      <td>56375.5</td>\n",
       "    </tr>\n",
       "    <tr>\n",
       "      <th>3</th>\n",
       "      <td>63218.0</td>\n",
       "      <td>56375.5</td>\n",
       "    </tr>\n",
       "    <tr>\n",
       "      <th>4</th>\n",
       "      <td>116969.0</td>\n",
       "      <td>112635.0</td>\n",
       "    </tr>\n",
       "    <tr>\n",
       "      <th>5</th>\n",
       "      <td>109431.0</td>\n",
       "      <td>105582.0</td>\n",
       "    </tr>\n",
       "  </tbody>\n",
       "</table>\n",
       "</div>"
      ],
      "text/plain": [
       "     Actual  Predicted\n",
       "0   37731.0    46205.0\n",
       "1  122391.0   121872.0\n",
       "2   57081.0    56375.5\n",
       "3   63218.0    56375.5\n",
       "4  116969.0   112635.0\n",
       "5  109431.0   105582.0"
      ]
     },
     "execution_count": 53,
     "metadata": {},
     "output_type": "execute_result"
    }
   ],
   "source": [
    "df = pd.DataFrame({\"Actual\":y_test, \"Predicted\":y_pred})\n",
    "df"
   ]
  },
  {
   "cell_type": "code",
   "execution_count": 54,
   "id": "e3dcbd10",
   "metadata": {},
   "outputs": [
    {
     "name": "stdout",
     "output_type": "stream",
     "text": [
      "Mean Squared Error: 25498988.416666668\n",
      "Mean Absolute Error: 4120.666666666667\n"
     ]
    }
   ],
   "source": [
    "from sklearn import metrics\n",
    "print(\"Mean Squared Error:\", metrics.mean_squared_error(y_test, y_pred))\n",
    "print(\"Mean Absolute Error:\", metrics.mean_absolute_error(y_test, y_pred))"
   ]
  },
  {
   "cell_type": "code",
   "execution_count": null,
   "id": "6c4c36bf",
   "metadata": {},
   "outputs": [],
   "source": []
  }
 ],
 "metadata": {
  "kernelspec": {
   "display_name": "Python 3 (ipykernel)",
   "language": "python",
   "name": "python3"
  },
  "language_info": {
   "codemirror_mode": {
    "name": "ipython",
    "version": 3
   },
   "file_extension": ".py",
   "mimetype": "text/x-python",
   "name": "python",
   "nbconvert_exporter": "python",
   "pygments_lexer": "ipython3",
   "version": "3.9.13"
  }
 },
 "nbformat": 4,
 "nbformat_minor": 5
}
